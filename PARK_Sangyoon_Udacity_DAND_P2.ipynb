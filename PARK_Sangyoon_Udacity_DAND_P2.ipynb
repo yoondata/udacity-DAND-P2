{
 "cells": [
  {
   "cell_type": "markdown",
   "metadata": {},
   "source": [
    "# P2: Exploring the Titanic Dataset\n",
    "\n",
    "### Sangyoon Park | 28 FEB 2016"
   ]
  },
  {
   "cell_type": "markdown",
   "metadata": {},
   "source": [
    "The sinking of the RMS Titanic in 1912 killed 1502 out of 2224 passengers and crew [1]. The tragedy immediately spurred an international sensation and led to awareness actions for better maritime safety regulations. Its sad memory still stays with us through the award-winning 1997 film *Titanic*.\n",
    "\n",
    "In this investigation, I examine factors related to survival. It is known that more women and children survived the disaster as the result of the \"women and children first\" protocol followed during the time [1]. But to what extent is this true? The heroic account may have been subject to exaggeration. So I turn to the actual dataset on a subset of the Titanic passengers and see what it tells about gender and age in survival. I also examine other factors that may be related to survival such as socio-economic status and family members aboard."
   ]
  },
  {
   "cell_type": "markdown",
   "metadata": {},
   "source": [
    "## 1. Examining the Dataset"
   ]
  },
  {
   "cell_type": "markdown",
   "metadata": {},
   "source": [
    "We start with some preliminary observations on our dataset."
   ]
  },
  {
   "cell_type": "code",
   "execution_count": 1,
   "metadata": {
    "collapsed": false
   },
   "outputs": [
    {
     "name": "stdout",
     "output_type": "stream",
     "text": [
      "Populating the interactive namespace from numpy and matplotlib\n",
      "(891, 12)\n",
      "['PassengerId' 'Survived' 'Pclass' 'Name' 'Sex' 'Age' 'SibSp' 'Parch'\n",
      " 'Ticket' 'Fare' 'Cabin' 'Embarked']\n"
     ]
    }
   ],
   "source": [
    "import pandas as pd\n",
    "import numpy as np\n",
    "import scipy.stats as stats\n",
    "import matplotlib.pyplot as plt\n",
    "from matplotlib.gridspec import GridSpec\n",
    "import seaborn as sns\n",
    "%pylab inline\n",
    "\n",
    "path = 'C:/Users/Sangyoon Park/Desktop/Udacity_DAND/P2/'\n",
    "titanic_df = pd.read_csv(path + 'titanic_data.csv')\n",
    "\n",
    "# Checking the dimension of the dataset\n",
    "print titanic_df.shape\n",
    "# Checking the given variables in the dataset\n",
    "print titanic_df.columns.values"
   ]
  },
  {
   "cell_type": "markdown",
   "metadata": {},
   "source": [
    "We see that the dataset contains 891 observations (i.e. passengers) and 12 variables (i.e. passenger information).\n",
    "\n",
    "Let's now take a look at some entries in the dataset."
   ]
  },
  {
   "cell_type": "code",
   "execution_count": 2,
   "metadata": {
    "collapsed": false
   },
   "outputs": [
    {
     "data": {
      "text/html": [
       "<div>\n",
       "<table border=\"1\" class=\"dataframe\">\n",
       "  <thead>\n",
       "    <tr style=\"text-align: right;\">\n",
       "      <th></th>\n",
       "      <th>PassengerId</th>\n",
       "      <th>Survived</th>\n",
       "      <th>Pclass</th>\n",
       "      <th>Name</th>\n",
       "      <th>Sex</th>\n",
       "      <th>Age</th>\n",
       "      <th>SibSp</th>\n",
       "      <th>Parch</th>\n",
       "      <th>Ticket</th>\n",
       "      <th>Fare</th>\n",
       "      <th>Cabin</th>\n",
       "      <th>Embarked</th>\n",
       "    </tr>\n",
       "  </thead>\n",
       "  <tbody>\n",
       "    <tr>\n",
       "      <th>0</th>\n",
       "      <td>1</td>\n",
       "      <td>0</td>\n",
       "      <td>3</td>\n",
       "      <td>Braund, Mr. Owen Harris</td>\n",
       "      <td>male</td>\n",
       "      <td>22</td>\n",
       "      <td>1</td>\n",
       "      <td>0</td>\n",
       "      <td>A/5 21171</td>\n",
       "      <td>7.2500</td>\n",
       "      <td>NaN</td>\n",
       "      <td>S</td>\n",
       "    </tr>\n",
       "    <tr>\n",
       "      <th>1</th>\n",
       "      <td>2</td>\n",
       "      <td>1</td>\n",
       "      <td>1</td>\n",
       "      <td>Cumings, Mrs. John Bradley (Florence Briggs Th...</td>\n",
       "      <td>female</td>\n",
       "      <td>38</td>\n",
       "      <td>1</td>\n",
       "      <td>0</td>\n",
       "      <td>PC 17599</td>\n",
       "      <td>71.2833</td>\n",
       "      <td>C85</td>\n",
       "      <td>C</td>\n",
       "    </tr>\n",
       "    <tr>\n",
       "      <th>2</th>\n",
       "      <td>3</td>\n",
       "      <td>1</td>\n",
       "      <td>3</td>\n",
       "      <td>Heikkinen, Miss. Laina</td>\n",
       "      <td>female</td>\n",
       "      <td>26</td>\n",
       "      <td>0</td>\n",
       "      <td>0</td>\n",
       "      <td>STON/O2. 3101282</td>\n",
       "      <td>7.9250</td>\n",
       "      <td>NaN</td>\n",
       "      <td>S</td>\n",
       "    </tr>\n",
       "    <tr>\n",
       "      <th>3</th>\n",
       "      <td>4</td>\n",
       "      <td>1</td>\n",
       "      <td>1</td>\n",
       "      <td>Futrelle, Mrs. Jacques Heath (Lily May Peel)</td>\n",
       "      <td>female</td>\n",
       "      <td>35</td>\n",
       "      <td>1</td>\n",
       "      <td>0</td>\n",
       "      <td>113803</td>\n",
       "      <td>53.1000</td>\n",
       "      <td>C123</td>\n",
       "      <td>S</td>\n",
       "    </tr>\n",
       "    <tr>\n",
       "      <th>4</th>\n",
       "      <td>5</td>\n",
       "      <td>0</td>\n",
       "      <td>3</td>\n",
       "      <td>Allen, Mr. William Henry</td>\n",
       "      <td>male</td>\n",
       "      <td>35</td>\n",
       "      <td>0</td>\n",
       "      <td>0</td>\n",
       "      <td>373450</td>\n",
       "      <td>8.0500</td>\n",
       "      <td>NaN</td>\n",
       "      <td>S</td>\n",
       "    </tr>\n",
       "  </tbody>\n",
       "</table>\n",
       "</div>"
      ],
      "text/plain": [
       "   PassengerId  Survived  Pclass  \\\n",
       "0            1         0       3   \n",
       "1            2         1       1   \n",
       "2            3         1       3   \n",
       "3            4         1       1   \n",
       "4            5         0       3   \n",
       "\n",
       "                                                Name     Sex  Age  SibSp  \\\n",
       "0                            Braund, Mr. Owen Harris    male   22      1   \n",
       "1  Cumings, Mrs. John Bradley (Florence Briggs Th...  female   38      1   \n",
       "2                             Heikkinen, Miss. Laina  female   26      0   \n",
       "3       Futrelle, Mrs. Jacques Heath (Lily May Peel)  female   35      1   \n",
       "4                           Allen, Mr. William Henry    male   35      0   \n",
       "\n",
       "   Parch            Ticket     Fare Cabin Embarked  \n",
       "0      0         A/5 21171   7.2500   NaN        S  \n",
       "1      0          PC 17599  71.2833   C85        C  \n",
       "2      0  STON/O2. 3101282   7.9250   NaN        S  \n",
       "3      0            113803  53.1000  C123        S  \n",
       "4      0            373450   8.0500   NaN        S  "
      ]
     },
     "execution_count": 2,
     "metadata": {},
     "output_type": "execute_result"
    }
   ],
   "source": [
    "titanic_df.head()"
   ]
  },
  {
   "cell_type": "code",
   "execution_count": 3,
   "metadata": {
    "collapsed": false
   },
   "outputs": [
    {
     "data": {
      "text/html": [
       "<div>\n",
       "<table border=\"1\" class=\"dataframe\">\n",
       "  <thead>\n",
       "    <tr style=\"text-align: right;\">\n",
       "      <th></th>\n",
       "      <th>PassengerId</th>\n",
       "      <th>Survived</th>\n",
       "      <th>Pclass</th>\n",
       "      <th>Name</th>\n",
       "      <th>Sex</th>\n",
       "      <th>Age</th>\n",
       "      <th>SibSp</th>\n",
       "      <th>Parch</th>\n",
       "      <th>Ticket</th>\n",
       "      <th>Fare</th>\n",
       "      <th>Cabin</th>\n",
       "      <th>Embarked</th>\n",
       "    </tr>\n",
       "  </thead>\n",
       "  <tbody>\n",
       "    <tr>\n",
       "      <th>100</th>\n",
       "      <td>101</td>\n",
       "      <td>0</td>\n",
       "      <td>3</td>\n",
       "      <td>Petranec, Miss. Matilda</td>\n",
       "      <td>female</td>\n",
       "      <td>28</td>\n",
       "      <td>0</td>\n",
       "      <td>0</td>\n",
       "      <td>349245</td>\n",
       "      <td>7.8958</td>\n",
       "      <td>NaN</td>\n",
       "      <td>S</td>\n",
       "    </tr>\n",
       "    <tr>\n",
       "      <th>101</th>\n",
       "      <td>102</td>\n",
       "      <td>0</td>\n",
       "      <td>3</td>\n",
       "      <td>Petroff, Mr. Pastcho (\"Pentcho\")</td>\n",
       "      <td>male</td>\n",
       "      <td>NaN</td>\n",
       "      <td>0</td>\n",
       "      <td>0</td>\n",
       "      <td>349215</td>\n",
       "      <td>7.8958</td>\n",
       "      <td>NaN</td>\n",
       "      <td>S</td>\n",
       "    </tr>\n",
       "    <tr>\n",
       "      <th>102</th>\n",
       "      <td>103</td>\n",
       "      <td>0</td>\n",
       "      <td>1</td>\n",
       "      <td>White, Mr. Richard Frasar</td>\n",
       "      <td>male</td>\n",
       "      <td>21</td>\n",
       "      <td>0</td>\n",
       "      <td>1</td>\n",
       "      <td>35281</td>\n",
       "      <td>77.2875</td>\n",
       "      <td>D26</td>\n",
       "      <td>S</td>\n",
       "    </tr>\n",
       "    <tr>\n",
       "      <th>103</th>\n",
       "      <td>104</td>\n",
       "      <td>0</td>\n",
       "      <td>3</td>\n",
       "      <td>Johansson, Mr. Gustaf Joel</td>\n",
       "      <td>male</td>\n",
       "      <td>33</td>\n",
       "      <td>0</td>\n",
       "      <td>0</td>\n",
       "      <td>7540</td>\n",
       "      <td>8.6542</td>\n",
       "      <td>NaN</td>\n",
       "      <td>S</td>\n",
       "    </tr>\n",
       "    <tr>\n",
       "      <th>104</th>\n",
       "      <td>105</td>\n",
       "      <td>0</td>\n",
       "      <td>3</td>\n",
       "      <td>Gustafsson, Mr. Anders Vilhelm</td>\n",
       "      <td>male</td>\n",
       "      <td>37</td>\n",
       "      <td>2</td>\n",
       "      <td>0</td>\n",
       "      <td>3101276</td>\n",
       "      <td>7.9250</td>\n",
       "      <td>NaN</td>\n",
       "      <td>S</td>\n",
       "    </tr>\n",
       "    <tr>\n",
       "      <th>105</th>\n",
       "      <td>106</td>\n",
       "      <td>0</td>\n",
       "      <td>3</td>\n",
       "      <td>Mionoff, Mr. Stoytcho</td>\n",
       "      <td>male</td>\n",
       "      <td>28</td>\n",
       "      <td>0</td>\n",
       "      <td>0</td>\n",
       "      <td>349207</td>\n",
       "      <td>7.8958</td>\n",
       "      <td>NaN</td>\n",
       "      <td>S</td>\n",
       "    </tr>\n",
       "    <tr>\n",
       "      <th>106</th>\n",
       "      <td>107</td>\n",
       "      <td>1</td>\n",
       "      <td>3</td>\n",
       "      <td>Salkjelsvik, Miss. Anna Kristine</td>\n",
       "      <td>female</td>\n",
       "      <td>21</td>\n",
       "      <td>0</td>\n",
       "      <td>0</td>\n",
       "      <td>343120</td>\n",
       "      <td>7.6500</td>\n",
       "      <td>NaN</td>\n",
       "      <td>S</td>\n",
       "    </tr>\n",
       "    <tr>\n",
       "      <th>107</th>\n",
       "      <td>108</td>\n",
       "      <td>1</td>\n",
       "      <td>3</td>\n",
       "      <td>Moss, Mr. Albert Johan</td>\n",
       "      <td>male</td>\n",
       "      <td>NaN</td>\n",
       "      <td>0</td>\n",
       "      <td>0</td>\n",
       "      <td>312991</td>\n",
       "      <td>7.7750</td>\n",
       "      <td>NaN</td>\n",
       "      <td>S</td>\n",
       "    </tr>\n",
       "    <tr>\n",
       "      <th>108</th>\n",
       "      <td>109</td>\n",
       "      <td>0</td>\n",
       "      <td>3</td>\n",
       "      <td>Rekic, Mr. Tido</td>\n",
       "      <td>male</td>\n",
       "      <td>38</td>\n",
       "      <td>0</td>\n",
       "      <td>0</td>\n",
       "      <td>349249</td>\n",
       "      <td>7.8958</td>\n",
       "      <td>NaN</td>\n",
       "      <td>S</td>\n",
       "    </tr>\n",
       "    <tr>\n",
       "      <th>109</th>\n",
       "      <td>110</td>\n",
       "      <td>1</td>\n",
       "      <td>3</td>\n",
       "      <td>Moran, Miss. Bertha</td>\n",
       "      <td>female</td>\n",
       "      <td>NaN</td>\n",
       "      <td>1</td>\n",
       "      <td>0</td>\n",
       "      <td>371110</td>\n",
       "      <td>24.1500</td>\n",
       "      <td>NaN</td>\n",
       "      <td>Q</td>\n",
       "    </tr>\n",
       "  </tbody>\n",
       "</table>\n",
       "</div>"
      ],
      "text/plain": [
       "     PassengerId  Survived  Pclass                              Name     Sex  \\\n",
       "100          101         0       3           Petranec, Miss. Matilda  female   \n",
       "101          102         0       3  Petroff, Mr. Pastcho (\"Pentcho\")    male   \n",
       "102          103         0       1         White, Mr. Richard Frasar    male   \n",
       "103          104         0       3        Johansson, Mr. Gustaf Joel    male   \n",
       "104          105         0       3    Gustafsson, Mr. Anders Vilhelm    male   \n",
       "105          106         0       3             Mionoff, Mr. Stoytcho    male   \n",
       "106          107         1       3  Salkjelsvik, Miss. Anna Kristine  female   \n",
       "107          108         1       3            Moss, Mr. Albert Johan    male   \n",
       "108          109         0       3                   Rekic, Mr. Tido    male   \n",
       "109          110         1       3               Moran, Miss. Bertha  female   \n",
       "\n",
       "     Age  SibSp  Parch   Ticket     Fare Cabin Embarked  \n",
       "100   28      0      0   349245   7.8958   NaN        S  \n",
       "101  NaN      0      0   349215   7.8958   NaN        S  \n",
       "102   21      0      1    35281  77.2875   D26        S  \n",
       "103   33      0      0     7540   8.6542   NaN        S  \n",
       "104   37      2      0  3101276   7.9250   NaN        S  \n",
       "105   28      0      0   349207   7.8958   NaN        S  \n",
       "106   21      0      0   343120   7.6500   NaN        S  \n",
       "107  NaN      0      0   312991   7.7750   NaN        S  \n",
       "108   38      0      0   349249   7.8958   NaN        S  \n",
       "109  NaN      1      0   371110  24.1500   NaN        Q  "
      ]
     },
     "execution_count": 3,
     "metadata": {},
     "output_type": "execute_result"
    }
   ],
   "source": [
    "titanic_df.iloc[100:110]"
   ]
  },
  {
   "cell_type": "code",
   "execution_count": 4,
   "metadata": {
    "collapsed": false
   },
   "outputs": [
    {
     "data": {
      "text/html": [
       "<div>\n",
       "<table border=\"1\" class=\"dataframe\">\n",
       "  <thead>\n",
       "    <tr style=\"text-align: right;\">\n",
       "      <th></th>\n",
       "      <th>PassengerId</th>\n",
       "      <th>Survived</th>\n",
       "      <th>Pclass</th>\n",
       "      <th>Name</th>\n",
       "      <th>Sex</th>\n",
       "      <th>Age</th>\n",
       "      <th>SibSp</th>\n",
       "      <th>Parch</th>\n",
       "      <th>Ticket</th>\n",
       "      <th>Fare</th>\n",
       "      <th>Cabin</th>\n",
       "      <th>Embarked</th>\n",
       "    </tr>\n",
       "  </thead>\n",
       "  <tbody>\n",
       "    <tr>\n",
       "      <th>500</th>\n",
       "      <td>501</td>\n",
       "      <td>0</td>\n",
       "      <td>3</td>\n",
       "      <td>Calic, Mr. Petar</td>\n",
       "      <td>male</td>\n",
       "      <td>17</td>\n",
       "      <td>0</td>\n",
       "      <td>0</td>\n",
       "      <td>315086</td>\n",
       "      <td>8.6625</td>\n",
       "      <td>NaN</td>\n",
       "      <td>S</td>\n",
       "    </tr>\n",
       "    <tr>\n",
       "      <th>501</th>\n",
       "      <td>502</td>\n",
       "      <td>0</td>\n",
       "      <td>3</td>\n",
       "      <td>Canavan, Miss. Mary</td>\n",
       "      <td>female</td>\n",
       "      <td>21</td>\n",
       "      <td>0</td>\n",
       "      <td>0</td>\n",
       "      <td>364846</td>\n",
       "      <td>7.7500</td>\n",
       "      <td>NaN</td>\n",
       "      <td>Q</td>\n",
       "    </tr>\n",
       "    <tr>\n",
       "      <th>502</th>\n",
       "      <td>503</td>\n",
       "      <td>0</td>\n",
       "      <td>3</td>\n",
       "      <td>O'Sullivan, Miss. Bridget Mary</td>\n",
       "      <td>female</td>\n",
       "      <td>NaN</td>\n",
       "      <td>0</td>\n",
       "      <td>0</td>\n",
       "      <td>330909</td>\n",
       "      <td>7.6292</td>\n",
       "      <td>NaN</td>\n",
       "      <td>Q</td>\n",
       "    </tr>\n",
       "    <tr>\n",
       "      <th>503</th>\n",
       "      <td>504</td>\n",
       "      <td>0</td>\n",
       "      <td>3</td>\n",
       "      <td>Laitinen, Miss. Kristina Sofia</td>\n",
       "      <td>female</td>\n",
       "      <td>37</td>\n",
       "      <td>0</td>\n",
       "      <td>0</td>\n",
       "      <td>4135</td>\n",
       "      <td>9.5875</td>\n",
       "      <td>NaN</td>\n",
       "      <td>S</td>\n",
       "    </tr>\n",
       "    <tr>\n",
       "      <th>504</th>\n",
       "      <td>505</td>\n",
       "      <td>1</td>\n",
       "      <td>1</td>\n",
       "      <td>Maioni, Miss. Roberta</td>\n",
       "      <td>female</td>\n",
       "      <td>16</td>\n",
       "      <td>0</td>\n",
       "      <td>0</td>\n",
       "      <td>110152</td>\n",
       "      <td>86.5000</td>\n",
       "      <td>B79</td>\n",
       "      <td>S</td>\n",
       "    </tr>\n",
       "    <tr>\n",
       "      <th>505</th>\n",
       "      <td>506</td>\n",
       "      <td>0</td>\n",
       "      <td>1</td>\n",
       "      <td>Penasco y Castellana, Mr. Victor de Satode</td>\n",
       "      <td>male</td>\n",
       "      <td>18</td>\n",
       "      <td>1</td>\n",
       "      <td>0</td>\n",
       "      <td>PC 17758</td>\n",
       "      <td>108.9000</td>\n",
       "      <td>C65</td>\n",
       "      <td>C</td>\n",
       "    </tr>\n",
       "    <tr>\n",
       "      <th>506</th>\n",
       "      <td>507</td>\n",
       "      <td>1</td>\n",
       "      <td>2</td>\n",
       "      <td>Quick, Mrs. Frederick Charles (Jane Richards)</td>\n",
       "      <td>female</td>\n",
       "      <td>33</td>\n",
       "      <td>0</td>\n",
       "      <td>2</td>\n",
       "      <td>26360</td>\n",
       "      <td>26.0000</td>\n",
       "      <td>NaN</td>\n",
       "      <td>S</td>\n",
       "    </tr>\n",
       "    <tr>\n",
       "      <th>507</th>\n",
       "      <td>508</td>\n",
       "      <td>1</td>\n",
       "      <td>1</td>\n",
       "      <td>Bradley, Mr. George (\"George Arthur Brayton\")</td>\n",
       "      <td>male</td>\n",
       "      <td>NaN</td>\n",
       "      <td>0</td>\n",
       "      <td>0</td>\n",
       "      <td>111427</td>\n",
       "      <td>26.5500</td>\n",
       "      <td>NaN</td>\n",
       "      <td>S</td>\n",
       "    </tr>\n",
       "    <tr>\n",
       "      <th>508</th>\n",
       "      <td>509</td>\n",
       "      <td>0</td>\n",
       "      <td>3</td>\n",
       "      <td>Olsen, Mr. Henry Margido</td>\n",
       "      <td>male</td>\n",
       "      <td>28</td>\n",
       "      <td>0</td>\n",
       "      <td>0</td>\n",
       "      <td>C 4001</td>\n",
       "      <td>22.5250</td>\n",
       "      <td>NaN</td>\n",
       "      <td>S</td>\n",
       "    </tr>\n",
       "    <tr>\n",
       "      <th>509</th>\n",
       "      <td>510</td>\n",
       "      <td>1</td>\n",
       "      <td>3</td>\n",
       "      <td>Lang, Mr. Fang</td>\n",
       "      <td>male</td>\n",
       "      <td>26</td>\n",
       "      <td>0</td>\n",
       "      <td>0</td>\n",
       "      <td>1601</td>\n",
       "      <td>56.4958</td>\n",
       "      <td>NaN</td>\n",
       "      <td>S</td>\n",
       "    </tr>\n",
       "  </tbody>\n",
       "</table>\n",
       "</div>"
      ],
      "text/plain": [
       "     PassengerId  Survived  Pclass  \\\n",
       "500          501         0       3   \n",
       "501          502         0       3   \n",
       "502          503         0       3   \n",
       "503          504         0       3   \n",
       "504          505         1       1   \n",
       "505          506         0       1   \n",
       "506          507         1       2   \n",
       "507          508         1       1   \n",
       "508          509         0       3   \n",
       "509          510         1       3   \n",
       "\n",
       "                                              Name     Sex  Age  SibSp  Parch  \\\n",
       "500                               Calic, Mr. Petar    male   17      0      0   \n",
       "501                            Canavan, Miss. Mary  female   21      0      0   \n",
       "502                 O'Sullivan, Miss. Bridget Mary  female  NaN      0      0   \n",
       "503                 Laitinen, Miss. Kristina Sofia  female   37      0      0   \n",
       "504                          Maioni, Miss. Roberta  female   16      0      0   \n",
       "505     Penasco y Castellana, Mr. Victor de Satode    male   18      1      0   \n",
       "506  Quick, Mrs. Frederick Charles (Jane Richards)  female   33      0      2   \n",
       "507  Bradley, Mr. George (\"George Arthur Brayton\")    male  NaN      0      0   \n",
       "508                       Olsen, Mr. Henry Margido    male   28      0      0   \n",
       "509                                 Lang, Mr. Fang    male   26      0      0   \n",
       "\n",
       "       Ticket      Fare Cabin Embarked  \n",
       "500    315086    8.6625   NaN        S  \n",
       "501    364846    7.7500   NaN        Q  \n",
       "502    330909    7.6292   NaN        Q  \n",
       "503      4135    9.5875   NaN        S  \n",
       "504    110152   86.5000   B79        S  \n",
       "505  PC 17758  108.9000   C65        C  \n",
       "506     26360   26.0000   NaN        S  \n",
       "507    111427   26.5500   NaN        S  \n",
       "508    C 4001   22.5250   NaN        S  \n",
       "509      1601   56.4958   NaN        S  "
      ]
     },
     "execution_count": 4,
     "metadata": {},
     "output_type": "execute_result"
    }
   ],
   "source": [
    "titanic_df.iloc[500:510]"
   ]
  },
  {
   "cell_type": "markdown",
   "metadata": {},
   "source": [
    "Now, let's get some descriptive statistics for the applicable (i.e. continuous) variables in the dataset."
   ]
  },
  {
   "cell_type": "code",
   "execution_count": 5,
   "metadata": {
    "collapsed": false
   },
   "outputs": [
    {
     "data": {
      "text/html": [
       "<div>\n",
       "<table border=\"1\" class=\"dataframe\">\n",
       "  <thead>\n",
       "    <tr style=\"text-align: right;\">\n",
       "      <th></th>\n",
       "      <th>Age</th>\n",
       "      <th>SibSp</th>\n",
       "      <th>Parch</th>\n",
       "      <th>Fare</th>\n",
       "    </tr>\n",
       "  </thead>\n",
       "  <tbody>\n",
       "    <tr>\n",
       "      <th>count</th>\n",
       "      <td>714.000000</td>\n",
       "      <td>891.000000</td>\n",
       "      <td>891.000000</td>\n",
       "      <td>891.000000</td>\n",
       "    </tr>\n",
       "    <tr>\n",
       "      <th>mean</th>\n",
       "      <td>29.699118</td>\n",
       "      <td>0.523008</td>\n",
       "      <td>0.381594</td>\n",
       "      <td>32.204208</td>\n",
       "    </tr>\n",
       "    <tr>\n",
       "      <th>std</th>\n",
       "      <td>14.526497</td>\n",
       "      <td>1.102743</td>\n",
       "      <td>0.806057</td>\n",
       "      <td>49.693429</td>\n",
       "    </tr>\n",
       "    <tr>\n",
       "      <th>min</th>\n",
       "      <td>0.420000</td>\n",
       "      <td>0.000000</td>\n",
       "      <td>0.000000</td>\n",
       "      <td>0.000000</td>\n",
       "    </tr>\n",
       "    <tr>\n",
       "      <th>25%</th>\n",
       "      <td>20.125000</td>\n",
       "      <td>0.000000</td>\n",
       "      <td>0.000000</td>\n",
       "      <td>7.910400</td>\n",
       "    </tr>\n",
       "    <tr>\n",
       "      <th>50%</th>\n",
       "      <td>28.000000</td>\n",
       "      <td>0.000000</td>\n",
       "      <td>0.000000</td>\n",
       "      <td>14.454200</td>\n",
       "    </tr>\n",
       "    <tr>\n",
       "      <th>75%</th>\n",
       "      <td>38.000000</td>\n",
       "      <td>1.000000</td>\n",
       "      <td>0.000000</td>\n",
       "      <td>31.000000</td>\n",
       "    </tr>\n",
       "    <tr>\n",
       "      <th>max</th>\n",
       "      <td>80.000000</td>\n",
       "      <td>8.000000</td>\n",
       "      <td>6.000000</td>\n",
       "      <td>512.329200</td>\n",
       "    </tr>\n",
       "  </tbody>\n",
       "</table>\n",
       "</div>"
      ],
      "text/plain": [
       "              Age       SibSp       Parch        Fare\n",
       "count  714.000000  891.000000  891.000000  891.000000\n",
       "mean    29.699118    0.523008    0.381594   32.204208\n",
       "std     14.526497    1.102743    0.806057   49.693429\n",
       "min      0.420000    0.000000    0.000000    0.000000\n",
       "25%     20.125000    0.000000    0.000000    7.910400\n",
       "50%     28.000000    0.000000    0.000000   14.454200\n",
       "75%     38.000000    1.000000    0.000000   31.000000\n",
       "max     80.000000    8.000000    6.000000  512.329200"
      ]
     },
     "execution_count": 5,
     "metadata": {},
     "output_type": "execute_result"
    }
   ],
   "source": [
    "titanic_df[ ['Age', 'SibSp', 'Parch', 'Fare'] ].describe()"
   ]
  },
  {
   "cell_type": "markdown",
   "metadata": {},
   "source": [
    "We see that all these four variables, *Age* and *Fare* in particular, have potential outliers as the maximum is much greater than the upper quartile (i.e. 75% percentile). We will examine the distribution of each of these variables in the respective section below.\n",
    "\n",
    "We also notice that the count for *Age* is less than 891. This is because *Age* contains NaN's as shown in the entries above. We should keep this in mind for our later analyses."
   ]
  },
  {
   "cell_type": "markdown",
   "metadata": {},
   "source": [
    "## 2. Survivors vs. Non-Survivors"
   ]
  },
  {
   "cell_type": "markdown",
   "metadata": {},
   "source": [
    "Before examining each individual variable in detail, let's roughly compare the survivor and non-survivor groups."
   ]
  },
  {
   "cell_type": "code",
   "execution_count": 6,
   "metadata": {
    "collapsed": false
   },
   "outputs": [
    {
     "name": "stdout",
     "output_type": "stream",
     "text": [
      "Number of Passengers: 891\n",
      "Number of Survivors: 342\n",
      "Number of Non-Survivors: 549\n"
     ]
    }
   ],
   "source": [
    "# Grouping into survivors and non-survivors\n",
    "survivors_df = titanic_df[ titanic_df['Survived']==1 ]\n",
    "non_survivors_df = titanic_df[ titanic_df['Survived']==0 ]\n",
    "print 'Number of Passengers:', len(titanic_df)\n",
    "print 'Number of Survivors:', len(survivors_df)\n",
    "print 'Number of Non-Survivors:', len(non_survivors_df)"
   ]
  },
  {
   "cell_type": "markdown",
   "metadata": {},
   "source": [
    "Only 342 survived out of 891 passengers. \n",
    "\n",
    "Let's briefly compare the two groups."
   ]
  },
  {
   "cell_type": "code",
   "execution_count": 7,
   "metadata": {
    "collapsed": false
   },
   "outputs": [
    {
     "data": {
      "text/html": [
       "<div>\n",
       "<table border=\"1\" class=\"dataframe\">\n",
       "  <thead>\n",
       "    <tr style=\"text-align: right;\">\n",
       "      <th></th>\n",
       "      <th>Age</th>\n",
       "      <th>SibSp</th>\n",
       "      <th>Parch</th>\n",
       "      <th>Fare</th>\n",
       "    </tr>\n",
       "  </thead>\n",
       "  <tbody>\n",
       "    <tr>\n",
       "      <th>count</th>\n",
       "      <td>290.000000</td>\n",
       "      <td>342.000000</td>\n",
       "      <td>342.000000</td>\n",
       "      <td>342.000000</td>\n",
       "    </tr>\n",
       "    <tr>\n",
       "      <th>mean</th>\n",
       "      <td>28.343690</td>\n",
       "      <td>0.473684</td>\n",
       "      <td>0.464912</td>\n",
       "      <td>48.395408</td>\n",
       "    </tr>\n",
       "    <tr>\n",
       "      <th>std</th>\n",
       "      <td>14.950952</td>\n",
       "      <td>0.708688</td>\n",
       "      <td>0.771712</td>\n",
       "      <td>66.596998</td>\n",
       "    </tr>\n",
       "    <tr>\n",
       "      <th>min</th>\n",
       "      <td>0.420000</td>\n",
       "      <td>0.000000</td>\n",
       "      <td>0.000000</td>\n",
       "      <td>0.000000</td>\n",
       "    </tr>\n",
       "    <tr>\n",
       "      <th>25%</th>\n",
       "      <td>19.000000</td>\n",
       "      <td>0.000000</td>\n",
       "      <td>0.000000</td>\n",
       "      <td>12.475000</td>\n",
       "    </tr>\n",
       "    <tr>\n",
       "      <th>50%</th>\n",
       "      <td>28.000000</td>\n",
       "      <td>0.000000</td>\n",
       "      <td>0.000000</td>\n",
       "      <td>26.000000</td>\n",
       "    </tr>\n",
       "    <tr>\n",
       "      <th>75%</th>\n",
       "      <td>36.000000</td>\n",
       "      <td>1.000000</td>\n",
       "      <td>1.000000</td>\n",
       "      <td>57.000000</td>\n",
       "    </tr>\n",
       "    <tr>\n",
       "      <th>max</th>\n",
       "      <td>80.000000</td>\n",
       "      <td>4.000000</td>\n",
       "      <td>5.000000</td>\n",
       "      <td>512.329200</td>\n",
       "    </tr>\n",
       "  </tbody>\n",
       "</table>\n",
       "</div>"
      ],
      "text/plain": [
       "              Age       SibSp       Parch        Fare\n",
       "count  290.000000  342.000000  342.000000  342.000000\n",
       "mean    28.343690    0.473684    0.464912   48.395408\n",
       "std     14.950952    0.708688    0.771712   66.596998\n",
       "min      0.420000    0.000000    0.000000    0.000000\n",
       "25%     19.000000    0.000000    0.000000   12.475000\n",
       "50%     28.000000    0.000000    0.000000   26.000000\n",
       "75%     36.000000    1.000000    1.000000   57.000000\n",
       "max     80.000000    4.000000    5.000000  512.329200"
      ]
     },
     "execution_count": 7,
     "metadata": {},
     "output_type": "execute_result"
    }
   ],
   "source": [
    "survivors_df[ ['Age', 'SibSp', 'Parch', 'Fare'] ].describe()"
   ]
  },
  {
   "cell_type": "code",
   "execution_count": 8,
   "metadata": {
    "collapsed": false
   },
   "outputs": [
    {
     "data": {
      "text/html": [
       "<div>\n",
       "<table border=\"1\" class=\"dataframe\">\n",
       "  <thead>\n",
       "    <tr style=\"text-align: right;\">\n",
       "      <th></th>\n",
       "      <th>Age</th>\n",
       "      <th>SibSp</th>\n",
       "      <th>Parch</th>\n",
       "      <th>Fare</th>\n",
       "    </tr>\n",
       "  </thead>\n",
       "  <tbody>\n",
       "    <tr>\n",
       "      <th>count</th>\n",
       "      <td>424.000000</td>\n",
       "      <td>549.000000</td>\n",
       "      <td>549.000000</td>\n",
       "      <td>549.000000</td>\n",
       "    </tr>\n",
       "    <tr>\n",
       "      <th>mean</th>\n",
       "      <td>30.626179</td>\n",
       "      <td>0.553734</td>\n",
       "      <td>0.329690</td>\n",
       "      <td>22.117887</td>\n",
       "    </tr>\n",
       "    <tr>\n",
       "      <th>std</th>\n",
       "      <td>14.172110</td>\n",
       "      <td>1.288399</td>\n",
       "      <td>0.823166</td>\n",
       "      <td>31.388207</td>\n",
       "    </tr>\n",
       "    <tr>\n",
       "      <th>min</th>\n",
       "      <td>1.000000</td>\n",
       "      <td>0.000000</td>\n",
       "      <td>0.000000</td>\n",
       "      <td>0.000000</td>\n",
       "    </tr>\n",
       "    <tr>\n",
       "      <th>25%</th>\n",
       "      <td>21.000000</td>\n",
       "      <td>0.000000</td>\n",
       "      <td>0.000000</td>\n",
       "      <td>7.854200</td>\n",
       "    </tr>\n",
       "    <tr>\n",
       "      <th>50%</th>\n",
       "      <td>28.000000</td>\n",
       "      <td>0.000000</td>\n",
       "      <td>0.000000</td>\n",
       "      <td>10.500000</td>\n",
       "    </tr>\n",
       "    <tr>\n",
       "      <th>75%</th>\n",
       "      <td>39.000000</td>\n",
       "      <td>1.000000</td>\n",
       "      <td>0.000000</td>\n",
       "      <td>26.000000</td>\n",
       "    </tr>\n",
       "    <tr>\n",
       "      <th>max</th>\n",
       "      <td>74.000000</td>\n",
       "      <td>8.000000</td>\n",
       "      <td>6.000000</td>\n",
       "      <td>263.000000</td>\n",
       "    </tr>\n",
       "  </tbody>\n",
       "</table>\n",
       "</div>"
      ],
      "text/plain": [
       "              Age       SibSp       Parch        Fare\n",
       "count  424.000000  549.000000  549.000000  549.000000\n",
       "mean    30.626179    0.553734    0.329690   22.117887\n",
       "std     14.172110    1.288399    0.823166   31.388207\n",
       "min      1.000000    0.000000    0.000000    0.000000\n",
       "25%     21.000000    0.000000    0.000000    7.854200\n",
       "50%     28.000000    0.000000    0.000000   10.500000\n",
       "75%     39.000000    1.000000    0.000000   26.000000\n",
       "max     74.000000    8.000000    6.000000  263.000000"
      ]
     },
     "execution_count": 8,
     "metadata": {},
     "output_type": "execute_result"
    }
   ],
   "source": [
    "non_survivors_df[ ['Age', 'SibSp', 'Parch', 'Fare'] ].describe()"
   ]
  },
  {
   "cell_type": "markdown",
   "metadata": {},
   "source": [
    "We easily notice that fare is much higher for the survivor group.\n",
    "\n",
    "Let's now turn to individual variables and their relationship to survival."
   ]
  },
  {
   "cell_type": "markdown",
   "metadata": {},
   "source": [
    "## 3. Gender and Survival"
   ]
  },
  {
   "cell_type": "markdown",
   "metadata": {},
   "source": [
    "As mentioned in the beginning, it is known that more women survived the disaster as the result of the \"women and children first\" protocol followed during the time [1]. But we examine whether our dataset actually agrees with this report and, if so, to what extent.\n",
    "\n",
    "First, we examine the basic breakdown of survival vs. gender."
   ]
  },
  {
   "cell_type": "code",
   "execution_count": 9,
   "metadata": {
    "collapsed": false
   },
   "outputs": [
    {
     "name": "stdout",
     "output_type": "stream",
     "text": [
      "< Number of Males and Females by Survival >\n",
      "Sex       female  male  All\n",
      "Survived                   \n",
      "0             81   468  549\n",
      "1            233   109  342\n",
      "All          314   577  891\n"
     ]
    }
   ],
   "source": [
    "# Basic breakdown\n",
    "def survival_breakdown(variable_of_interest):\n",
    "    return pd.pivot_table(titanic_df, index='Survived', columns=variable_of_interest, \n",
    "                          values='PassengerId', aggfunc=len, margins=True, fill_value=0)\n",
    "\n",
    "print '< Number of Males and Females by Survival >'\n",
    "print survival_breakdown('Sex')"
   ]
  },
  {
   "cell_type": "markdown",
   "metadata": {},
   "source": [
    "Next, we examine the gender difference in survival though visualization."
   ]
  },
  {
   "cell_type": "code",
   "execution_count": 10,
   "metadata": {
    "collapsed": false
   },
   "outputs": [
    {
     "name": "stdout",
     "output_type": "stream",
     "text": [
      "< Survival Rate by Gender >\n",
      "Sex\n",
      "female    0.742038\n",
      "male      0.188908\n",
      "Name: Survived, dtype: float64\n"
     ]
    },
    {
     "data": {
      "image/png": "[encoded data removed]",
      "text/plain": [
       "<matplotlib.figure.Figure at 0x999e390>"
      ]
     },
     "metadata": {},
     "output_type": "display_data"
    },
    {
     "data": {
      "image/png": "[encoded data removed]",
      "text/plain": [
       "<matplotlib.figure.Figure at 0x9bdf390>"
      ]
     },
     "metadata": {},
     "output_type": "display_data"
    }
   ],
   "source": [
    "# Gender and survival\n",
    "grouped_by_gender = titanic_df.groupby('Sex')\n",
    "print '< Survival Rate by Gender >'\n",
    "print grouped_by_gender['Survived'].mean()\n",
    "\n",
    "# Plotting\n",
    "def plot_bar(title, x_label, x_names, x_colors, y_label, y_values, show=True):\n",
    "    x_values = range( len(y_values) )\n",
    "    plt.bar(x_values, y_values, color=x_colors, align='center')\n",
    "    plt.xticks(x_values, x_names)\n",
    "    plt.xlabel(x_label)\n",
    "    plt.ylabel(y_label)\n",
    "    plt.title(title, size=16)\n",
    "    if (show == True):\n",
    "        plt.show()\n",
    "\n",
    "def plot_pie(title, nums, labels, colors, show=True):\n",
    "    plt.pie(nums, labels=labels, colors=colors, autopct='%1.1f%%', startangle=90)\n",
    "    plt.title(title, size=16)\n",
    "    if (show == True):\n",
    "        plt.show()\n",
    "\n",
    "survival_rate_by_gender = list( grouped_by_gender['Survived'].mean() )\n",
    "plot_bar('< Survival Rate by Gender >', \n",
    "         'Gender', ['Female', 'Male'], ['gold', 'yellowgreen'], \n",
    "         'Survival Rate', survival_rate_by_gender)\n",
    "\n",
    "plot_pie('< Gender Ratio >', grouped_by_gender.size(), \n",
    "         ['Female', 'Male'], ['gold', 'yellowgreen'])"
   ]
  },
  {
   "cell_type": "markdown",
   "metadata": {},
   "source": [
    "The survival rate is considerably higher for females than for males! We may conduct the chi-square test to examine if the difference is statistically significant. The test is applicable since each observed cell frequency is greater than 5, as we saw in the contingency table above."
   ]
  },
  {
   "cell_type": "code",
   "execution_count": 11,
   "metadata": {
    "collapsed": false
   },
   "outputs": [
    {
     "data": {
      "text/plain": [
       "(260.71702016732104,\n",
       " 1.1973570627755645e-58,\n",
       " 1L,\n",
       " array([[ 193.47474747,  355.52525253],\n",
       "        [ 120.52525253,  221.47474747]]))"
      ]
     },
     "execution_count": 11,
     "metadata": {},
     "output_type": "execute_result"
    }
   ],
   "source": [
    "# Conducting the chi-square test \n",
    "tab_gender = survival_breakdown('Sex')\n",
    "tab_gender_observed = tab_gender.ix[0:-1, 0:-1]   # Get table without totals\n",
    "stats.chi2_contingency(observed=tab_gender_observed)"
   ]
  },
  {
   "cell_type": "markdown",
   "metadata": {},
   "source": [
    "We see that the p-value is significantly small (*p < .001*), so we can reject the null hypothesis that gender and survival are independent. In other words, there is a relationship between gender and survival. Specifically, our observed result supports that being a female is related to a higher chance of survival."
   ]
  },
  {
   "cell_type": "markdown",
   "metadata": {},
   "source": [
    "## 4. Age and Survival"
   ]
  },
  {
   "cell_type": "markdown",
   "metadata": {},
   "source": [
    "We now turn to the relationship between age and survival. Is it true that more children survived the disaster as the result of the \"women and children first\" protocol? If so, to what extent is it true?\n",
    "\n",
    "Also, is there another age group (or groups) that displays a particularly higher (or lower) survival rate? For instance, is it the case that elderly passengers had a better chance of survival due to the similar rescue protocol that gives them priority?\n",
    "\n",
    "We investigate these questions in the following analysis."
   ]
  },
  {
   "cell_type": "code",
   "execution_count": 12,
   "metadata": {
    "collapsed": false
   },
   "outputs": [
    {
     "data": {
      "image/png": "[encoded data removed]",
      "text/plain": [
       "<matplotlib.figure.Figure at 0x9c759b0>"
      ]
     },
     "metadata": {},
     "output_type": "display_data"
    },
    {
     "data": {
      "image/png": "[encoded data removed]",
      "text/plain": [
       "<matplotlib.figure.Figure at 0x9fc0ef0>"
      ]
     },
     "metadata": {},
     "output_type": "display_data"
    }
   ],
   "source": [
    "# Plotting histogram for age\n",
    "plt.hist( titanic_df['Age'].dropna() )   # Removing NaN\n",
    "plt.title('< Distribution of Age >', size=16)\n",
    "plt.xlabel('Age')\n",
    "plt.ylabel('Frequency')\n",
    "plt.show()\n",
    "\n",
    "# Plotting box plot for age\n",
    "age_boxplot_data = [titanic_df['Age'].dropna(), \n",
    "                    survivors_df['Age'].dropna(), \n",
    "                    non_survivors_df['Age'].dropna()]\n",
    "age_boxplot_labels = ['All', 'Survivors', 'Non-Survivors']\n",
    "plt.boxplot(age_boxplot_data, labels=age_boxplot_labels)\n",
    "plt.title('< Distribution of Age >', size=16)\n",
    "plt.ylabel('Age')\n",
    "plt.show()"
   ]
  },
  {
   "cell_type": "code",
   "execution_count": 13,
   "metadata": {
    "collapsed": false
   },
   "outputs": [
    {
     "name": "stdout",
     "output_type": "stream",
     "text": [
      "< Average Age by Survival Status >\n",
      "Survived\n",
      "0    30.626179\n",
      "1    28.343690\n",
      "Name: Age, dtype: float64\n"
     ]
    }
   ],
   "source": [
    "grouped_by_survival = titanic_df.groupby('Survived')\n",
    "print '< Average Age by Survival Status >'\n",
    "print grouped_by_survival['Age'].mean()"
   ]
  },
  {
   "cell_type": "markdown",
   "metadata": {},
   "source": [
    "Survivors are a bit younger than non-survivors but the difference in the average age is quite small. For more effective examination of the relationship between age and survival, we categorize passenger into 5 age groups as follows."
   ]
  },
  {
   "cell_type": "code",
   "execution_count": 14,
   "metadata": {
    "collapsed": false
   },
   "outputs": [
    {
     "data": {
      "text/html": [
       "<div>\n",
       "<table border=\"1\" class=\"dataframe\">\n",
       "  <thead>\n",
       "    <tr style=\"text-align: right;\">\n",
       "      <th></th>\n",
       "      <th>PassengerId</th>\n",
       "      <th>Survived</th>\n",
       "      <th>Pclass</th>\n",
       "      <th>Name</th>\n",
       "      <th>Sex</th>\n",
       "      <th>Age</th>\n",
       "      <th>SibSp</th>\n",
       "      <th>Parch</th>\n",
       "      <th>Ticket</th>\n",
       "      <th>Fare</th>\n",
       "      <th>Cabin</th>\n",
       "      <th>Embarked</th>\n",
       "      <th>AgeCat</th>\n",
       "    </tr>\n",
       "  </thead>\n",
       "  <tbody>\n",
       "    <tr>\n",
       "      <th>450</th>\n",
       "      <td>451</td>\n",
       "      <td>0</td>\n",
       "      <td>2</td>\n",
       "      <td>West, Mr. Edwy Arthur</td>\n",
       "      <td>male</td>\n",
       "      <td>36</td>\n",
       "      <td>1</td>\n",
       "      <td>2</td>\n",
       "      <td>C.A. 34651</td>\n",
       "      <td>27.7500</td>\n",
       "      <td>NaN</td>\n",
       "      <td>S</td>\n",
       "      <td>30 to 44</td>\n",
       "    </tr>\n",
       "    <tr>\n",
       "      <th>451</th>\n",
       "      <td>452</td>\n",
       "      <td>0</td>\n",
       "      <td>3</td>\n",
       "      <td>Hagland, Mr. Ingvald Olai Olsen</td>\n",
       "      <td>male</td>\n",
       "      <td>NaN</td>\n",
       "      <td>1</td>\n",
       "      <td>0</td>\n",
       "      <td>65303</td>\n",
       "      <td>19.9667</td>\n",
       "      <td>NaN</td>\n",
       "      <td>S</td>\n",
       "      <td>None</td>\n",
       "    </tr>\n",
       "    <tr>\n",
       "      <th>452</th>\n",
       "      <td>453</td>\n",
       "      <td>0</td>\n",
       "      <td>1</td>\n",
       "      <td>Foreman, Mr. Benjamin Laventall</td>\n",
       "      <td>male</td>\n",
       "      <td>30</td>\n",
       "      <td>0</td>\n",
       "      <td>0</td>\n",
       "      <td>113051</td>\n",
       "      <td>27.7500</td>\n",
       "      <td>C111</td>\n",
       "      <td>C</td>\n",
       "      <td>30 to 44</td>\n",
       "    </tr>\n",
       "    <tr>\n",
       "      <th>453</th>\n",
       "      <td>454</td>\n",
       "      <td>1</td>\n",
       "      <td>1</td>\n",
       "      <td>Goldenberg, Mr. Samuel L</td>\n",
       "      <td>male</td>\n",
       "      <td>49</td>\n",
       "      <td>1</td>\n",
       "      <td>0</td>\n",
       "      <td>17453</td>\n",
       "      <td>89.1042</td>\n",
       "      <td>C92</td>\n",
       "      <td>C</td>\n",
       "      <td>45 to 59</td>\n",
       "    </tr>\n",
       "    <tr>\n",
       "      <th>454</th>\n",
       "      <td>455</td>\n",
       "      <td>0</td>\n",
       "      <td>3</td>\n",
       "      <td>Peduzzi, Mr. Joseph</td>\n",
       "      <td>male</td>\n",
       "      <td>NaN</td>\n",
       "      <td>0</td>\n",
       "      <td>0</td>\n",
       "      <td>A/5 2817</td>\n",
       "      <td>8.0500</td>\n",
       "      <td>NaN</td>\n",
       "      <td>S</td>\n",
       "      <td>None</td>\n",
       "    </tr>\n",
       "    <tr>\n",
       "      <th>455</th>\n",
       "      <td>456</td>\n",
       "      <td>1</td>\n",
       "      <td>3</td>\n",
       "      <td>Jalsevac, Mr. Ivan</td>\n",
       "      <td>male</td>\n",
       "      <td>29</td>\n",
       "      <td>0</td>\n",
       "      <td>0</td>\n",
       "      <td>349240</td>\n",
       "      <td>7.8958</td>\n",
       "      <td>NaN</td>\n",
       "      <td>C</td>\n",
       "      <td>16 to 29</td>\n",
       "    </tr>\n",
       "    <tr>\n",
       "      <th>456</th>\n",
       "      <td>457</td>\n",
       "      <td>0</td>\n",
       "      <td>1</td>\n",
       "      <td>Millet, Mr. Francis Davis</td>\n",
       "      <td>male</td>\n",
       "      <td>65</td>\n",
       "      <td>0</td>\n",
       "      <td>0</td>\n",
       "      <td>13509</td>\n",
       "      <td>26.5500</td>\n",
       "      <td>E38</td>\n",
       "      <td>S</td>\n",
       "      <td>60 or above</td>\n",
       "    </tr>\n",
       "    <tr>\n",
       "      <th>457</th>\n",
       "      <td>458</td>\n",
       "      <td>1</td>\n",
       "      <td>1</td>\n",
       "      <td>Kenyon, Mrs. Frederick R (Marion)</td>\n",
       "      <td>female</td>\n",
       "      <td>NaN</td>\n",
       "      <td>1</td>\n",
       "      <td>0</td>\n",
       "      <td>17464</td>\n",
       "      <td>51.8625</td>\n",
       "      <td>D21</td>\n",
       "      <td>S</td>\n",
       "      <td>None</td>\n",
       "    </tr>\n",
       "    <tr>\n",
       "      <th>458</th>\n",
       "      <td>459</td>\n",
       "      <td>1</td>\n",
       "      <td>2</td>\n",
       "      <td>Toomey, Miss. Ellen</td>\n",
       "      <td>female</td>\n",
       "      <td>50</td>\n",
       "      <td>0</td>\n",
       "      <td>0</td>\n",
       "      <td>F.C.C. 13531</td>\n",
       "      <td>10.5000</td>\n",
       "      <td>NaN</td>\n",
       "      <td>S</td>\n",
       "      <td>45 to 59</td>\n",
       "    </tr>\n",
       "  </tbody>\n",
       "</table>\n",
       "</div>"
      ],
      "text/plain": [
       "     PassengerId  Survived  Pclass                               Name     Sex  \\\n",
       "450          451         0       2              West, Mr. Edwy Arthur    male   \n",
       "451          452         0       3    Hagland, Mr. Ingvald Olai Olsen    male   \n",
       "452          453         0       1    Foreman, Mr. Benjamin Laventall    male   \n",
       "453          454         1       1           Goldenberg, Mr. Samuel L    male   \n",
       "454          455         0       3                Peduzzi, Mr. Joseph    male   \n",
       "455          456         1       3                 Jalsevac, Mr. Ivan    male   \n",
       "456          457         0       1          Millet, Mr. Francis Davis    male   \n",
       "457          458         1       1  Kenyon, Mrs. Frederick R (Marion)  female   \n",
       "458          459         1       2                Toomey, Miss. Ellen  female   \n",
       "\n",
       "     Age  SibSp  Parch        Ticket     Fare Cabin Embarked       AgeCat  \n",
       "450   36      1      2    C.A. 34651  27.7500   NaN        S     30 to 44  \n",
       "451  NaN      1      0         65303  19.9667   NaN        S         None  \n",
       "452   30      0      0        113051  27.7500  C111        C     30 to 44  \n",
       "453   49      1      0         17453  89.1042   C92        C     45 to 59  \n",
       "454  NaN      0      0      A/5 2817   8.0500   NaN        S         None  \n",
       "455   29      0      0        349240   7.8958   NaN        C     16 to 29  \n",
       "456   65      0      0         13509  26.5500   E38        S  60 or above  \n",
       "457  NaN      1      0         17464  51.8625   D21        S         None  \n",
       "458   50      0      0  F.C.C. 13531  10.5000   NaN        S     45 to 59  "
      ]
     },
     "execution_count": 14,
     "metadata": {},
     "output_type": "execute_result"
    }
   ],
   "source": [
    "# Creating a new categorical variable for age\n",
    "def age_categorize(age_num):\n",
    "    if np.isnan(age_num):\n",
    "        return None\n",
    "    elif (age_num <= 15):\n",
    "        return '15 or below'\n",
    "    elif (age_num >= 16) and (age_num < 30):\n",
    "        return '16 to 29'\n",
    "    elif (age_num >= 30) and (age_num < 45):\n",
    "        return '30 to 44'\n",
    "    elif (age_num >= 45) and (age_num < 60):\n",
    "        return '45 to 59'\n",
    "    else:\n",
    "        return '60 or above'\n",
    "\n",
    "titanic_df['AgeCat'] = pd.Series( titanic_df['Age'].apply(age_categorize) )\n",
    "\n",
    "# Checking the result\n",
    "titanic_df.iloc[450:459]"
   ]
  },
  {
   "cell_type": "markdown",
   "metadata": {},
   "source": [
    "Let's now examine the survival rate for each age group."
   ]
  },
  {
   "cell_type": "code",
   "execution_count": 15,
   "metadata": {
    "collapsed": false
   },
   "outputs": [
    {
     "name": "stdout",
     "output_type": "stream",
     "text": [
      "< Survival Rate by Age Group >\n",
      "AgeCat\n",
      "15 or below    0.590361\n",
      "16 to 29       0.355482\n",
      "30 to 44       0.423256\n",
      "45 to 59       0.404494\n",
      "60 or above    0.269231\n",
      "Name: Survived, dtype: float64\n"
     ]
    },
    {
     "data": {
      "image/png": "[encoded data removed]",
      "text/plain": [
       "<matplotlib.figure.Figure at 0x992c7f0>"
      ]
     },
     "metadata": {},
     "output_type": "display_data"
    },
    {
     "data": {
      "image/png": "[encoded data removed]",
      "text/plain": [
       "<matplotlib.figure.Figure at 0xadc67f0>"
      ]
     },
     "metadata": {},
     "output_type": "display_data"
    }
   ],
   "source": [
    "# Age and survival\n",
    "grouped_by_age = titanic_df.groupby('AgeCat')\n",
    "print '< Survival Rate by Age Group >'\n",
    "print grouped_by_age['Survived'].mean()\n",
    "\n",
    "# Plotting\n",
    "survival_rate_by_age = list( grouped_by_age['Survived'].mean() )\n",
    "plot_bar('< Survival Rate by Age Group >', \n",
    "         'Age Group', \n",
    "         ['15 or below', '16 to 29', '30 to 44', '45 to 59', '60 or above'], \n",
    "         ['ivory', 'cornsilk', 'lightgray', 'silver', 'darkgray'], \n",
    "         'Survival Rate', survival_rate_by_age)\n",
    "\n",
    "plot_pie('< Age Group Ratio >', grouped_by_age.size(), \n",
    "         ['15 or below', '16 to 29', '30 to 44', '45 to 59', '60 or above'], \n",
    "         ['ivory', 'cornsilk', 'lightgray', 'silver', 'darkgray'])"
   ]
  },
  {
   "cell_type": "markdown",
   "metadata": {},
   "source": [
    "We indeed see that the youngest age group (15 or below) displays a higher survival rate than other age groups.\n",
    "\n",
    "It is noteworthy that the result also shows that young adults (ages 16 to 29) had a relatively low chance of survival. Could it be that these passengers were more capable and willing to help other passengers and this came at the cost of their own safety and chance of survival?\n",
    "\n",
    "It is also interesting that the eldest age group (60 or above) displays the lowest survival rate. One possible interpretation is that these passengers were physically too weak to cope with the hardships of the crisis. One may also speculate whether these individuals willingly gave up on their lives since they have lived long enough! But we should also keep in mind that this age group is quite small (only 26 passengers) so any generalization is more limited."
   ]
  },
  {
   "cell_type": "code",
   "execution_count": 16,
   "metadata": {
    "collapsed": false
   },
   "outputs": [
    {
     "name": "stdout",
     "output_type": "stream",
     "text": [
      "< Survival by Age Group >\n",
      "AgeCat    15 or below  16 to 29  30 to 44  45 to 59  60 or above  All\n",
      "Survived                                                             \n",
      "0                  34       194       124        53           19  549\n",
      "1                  49       107        91        36            7  342\n",
      "All                83       301       215        89           26  891\n"
     ]
    }
   ],
   "source": [
    "# Basic breakdown\n",
    "print '< Survival by Age Group >'\n",
    "print survival_breakdown('AgeCat')"
   ]
  },
  {
   "cell_type": "markdown",
   "metadata": {},
   "source": [
    "Fortunately, every cell frequency is greater than 5 in the contingency table, so we may conduct the chi-square test to examine whether age and survival are independent from each other."
   ]
  },
  {
   "cell_type": "code",
   "execution_count": 17,
   "metadata": {
    "collapsed": false
   },
   "outputs": [
    {
     "data": {
      "text/plain": [
       "(17.163877132162035,\n",
       " 0.0017962418837390271,\n",
       " 4L,\n",
       " array([[  49.28851541,  178.74509804,  127.67507003,   52.85154062,\n",
       "           15.43977591],\n",
       "        [  33.71148459,  122.25490196,   87.32492997,   36.14845938,\n",
       "           10.56022409]]))"
      ]
     },
     "execution_count": 17,
     "metadata": {},
     "output_type": "execute_result"
    }
   ],
   "source": [
    "# Conducting the chi-square test \n",
    "tab_age = survival_breakdown('AgeCat')\n",
    "tab_age_observed = tab_age.ix[0:-1, 0:-1]   # Get table without totals\n",
    "stats.chi2_contingency(observed=tab_age_observed)"
   ]
  },
  {
   "cell_type": "markdown",
   "metadata": {},
   "source": [
    "The p-value is significantly small (*p < .01*), so we can reject the null hypothesis that age and survival are independent. In other words, there is a relationship between age and survival. It is noteworthy, however, that the p-value, though small, is not as small as the one we obtained earlier for gender. This may suggest that age is not as strong a predictor of survival as gender."
   ]
  },
  {
   "cell_type": "markdown",
   "metadata": {
    "collapsed": true
   },
   "source": [
    "## 5. Socio-Economic Status and Survival"
   ]
  },
  {
   "cell_type": "markdown",
   "metadata": {},
   "source": [
    "As we observed earlier, fare seems to be quite higher for the survivor group. Is it possible that wealthier passengers had a better chance of survival? The dataset has two variables that are relevant to the socio-economic status of the passengers: passenger class and fare. We examine both variables in their relationship to survival.\n",
    "\n",
    "As before, we start with the contingency table."
   ]
  },
  {
   "cell_type": "code",
   "execution_count": 18,
   "metadata": {
    "collapsed": false
   },
   "outputs": [
    {
     "name": "stdout",
     "output_type": "stream",
     "text": [
      "< Survival by Passenger Class >\n",
      "Pclass      1    2    3  All\n",
      "Survived                    \n",
      "0          80   97  372  549\n",
      "1         136   87  119  342\n",
      "All       216  184  491  891\n"
     ]
    }
   ],
   "source": [
    "# Basic breakdown\n",
    "print '< Survival by Passenger Class >'\n",
    "print survival_breakdown('Pclass')"
   ]
  },
  {
   "cell_type": "markdown",
   "metadata": {},
   "source": [
    "Noting that each cell frequency is greater than 5, we proceed to examine the relationship between passenger class and survival."
   ]
  },
  {
   "cell_type": "code",
   "execution_count": 19,
   "metadata": {
    "collapsed": false
   },
   "outputs": [
    {
     "name": "stdout",
     "output_type": "stream",
     "text": [
      "< Survival Rate by Passenger Class >\n",
      "Pclass\n",
      "1    0.629630\n",
      "2    0.472826\n",
      "3    0.242363\n",
      "Name: Survived, dtype: float64\n"
     ]
    },
    {
     "data": {
      "image/png": "[encoded data removed]",
      "text/plain": [
       "<matplotlib.figure.Figure at 0xaec2588>"
      ]
     },
     "metadata": {},
     "output_type": "display_data"
    },
    {
     "data": {
      "image/png": "[encoded data removed]",
      "text/plain": [
       "<matplotlib.figure.Figure at 0xac42780>"
      ]
     },
     "metadata": {},
     "output_type": "display_data"
    }
   ],
   "source": [
    "# Survival by passenger class\n",
    "grouped_by_passenger_class = titanic_df.groupby('Pclass')\n",
    "print '< Survival Rate by Passenger Class >'\n",
    "print grouped_by_passenger_class['Survived'].mean()\n",
    "\n",
    "# Plotting\n",
    "survival_rate_by_passenger_class = list( grouped_by_passenger_class['Survived'].mean() )\n",
    "plot_bar('< Survival Rate by Passenger Class >', \n",
    "         'Passenger Class', ['1st', '2nd', '3rd'], ['gold', 'silver', 'peru'], \n",
    "         'Survival Rate', survival_rate_by_passenger_class)\n",
    "\n",
    "plot_pie('< Passenger Class Ratio >', grouped_by_passenger_class.size(), \n",
    "         ['1st Class', '2nd Class', '3rd Class'], ['gold', 'silver', 'peru'])"
   ]
  },
  {
   "cell_type": "markdown",
   "metadata": {},
   "source": [
    "We see that a better passenger class displays a higher survival rate. Let's conduct the chi-square test to examine if the observed result is statistically significant. Recall that every cell frequency is greater than 5 in the contingency table."
   ]
  },
  {
   "cell_type": "code",
   "execution_count": 20,
   "metadata": {
    "collapsed": false
   },
   "outputs": [
    {
     "data": {
      "text/plain": [
       "(102.88898875696056,\n",
       " 4.5492517112987927e-23,\n",
       " 2L,\n",
       " array([[ 133.09090909,  113.37373737,  302.53535354],\n",
       "        [  82.90909091,   70.62626263,  188.46464646]]))"
      ]
     },
     "execution_count": 20,
     "metadata": {},
     "output_type": "execute_result"
    }
   ],
   "source": [
    "# Conducting the chi-square test \n",
    "tab_passenger_class = survival_breakdown('Pclass')\n",
    "tab_passenger_class_observed = tab_passenger_class.ix[0:-1, 0:-1]   # Get table without totals\n",
    "stats.chi2_contingency(observed=tab_passenger_class_observed)"
   ]
  },
  {
   "cell_type": "markdown",
   "metadata": {},
   "source": [
    "We see that the p-value is significantly small (*p < .001*), so we can reject the null hypothesis that passenger class (socio-economic status) and survival are independent. In other words, there is a relationship between socio-economic status and survival.\n",
    "\n",
    "Let's now examine the relationship between fare and survival."
   ]
  },
  {
   "cell_type": "code",
   "execution_count": 21,
   "metadata": {
    "collapsed": false
   },
   "outputs": [
    {
     "name": "stdout",
     "output_type": "stream",
     "text": [
      "< Average Fare by Survival >\n",
      "Survived\n",
      "0    22.117887\n",
      "1    48.395408\n",
      "Name: Fare, dtype: float64\n"
     ]
    },
    {
     "data": {
      "image/png": "[encoded data removed]",
      "text/plain": [
       "<matplotlib.figure.Figure at 0xab885c0>"
      ]
     },
     "metadata": {},
     "output_type": "display_data"
    }
   ],
   "source": [
    "# Fare and survival\n",
    "print '< Average Fare by Survival >'\n",
    "print grouped_by_survival['Fare'].mean()\n",
    "\n",
    "# Plotting\n",
    "average_fare_by_survival = list( grouped_by_survival['Fare'].mean() )\n",
    "plot_bar('< Average Fare by Survival >', \n",
    "         'Survival Status', ['Died', 'Survived'], ['red', 'blue'], \n",
    "         'Average Fare', average_fare_by_survival)"
   ]
  },
  {
   "cell_type": "markdown",
   "metadata": {},
   "source": [
    "We see that the average fare for the survivors is more than twice as high as the average fare for the non-survivors. The following independent samples t-test confirms that this difference is not by random chance (*p < .001*)."
   ]
  },
  {
   "cell_type": "code",
   "execution_count": 22,
   "metadata": {
    "collapsed": false
   },
   "outputs": [
    {
     "data": {
      "text/plain": [
       "Ttest_indResult(statistic=6.8390992590852537, pvalue=2.6993323503141236e-11)"
      ]
     },
     "execution_count": 22,
     "metadata": {},
     "output_type": "execute_result"
    }
   ],
   "source": [
    "stats.ttest_ind(survivors_df['Fare'], non_survivors_df['Fare'], equal_var=False)"
   ]
  },
  {
   "cell_type": "markdown",
   "metadata": {},
   "source": [
    "Finally, we examine the relationship between fare and passenger class to ensure that these two variables reflect/measure the same attribute: socio-economic status."
   ]
  },
  {
   "cell_type": "code",
   "execution_count": 23,
   "metadata": {
    "collapsed": false
   },
   "outputs": [
    {
     "name": "stdout",
     "output_type": "stream",
     "text": [
      "< Average Fare by Passenger Class>\n",
      "Pclass\n",
      "1    84.154687\n",
      "2    20.662183\n",
      "3    13.675550\n",
      "Name: Fare, dtype: float64\n"
     ]
    },
    {
     "data": {
      "image/png": "[encoded data removed]",
      "text/plain": [
       "<matplotlib.figure.Figure at 0xabe7940>"
      ]
     },
     "metadata": {},
     "output_type": "display_data"
    }
   ],
   "source": [
    "# Fare by passenger class\n",
    "print '< Average Fare by Passenger Class>'\n",
    "print grouped_by_passenger_class['Fare'].mean()\n",
    "\n",
    "# Plotting\n",
    "average_fare_by_passenger_class = list( grouped_by_passenger_class['Fare'].mean() )\n",
    "plot_bar('< Average Fare by Passenger Class>', \n",
    "         'Passenger Class', ['1st', '2nd', '3rd'], ['gold', 'silver', 'peru'], \n",
    "         'Average Fare', average_fare_by_passenger_class)"
   ]
  },
  {
   "cell_type": "markdown",
   "metadata": {},
   "source": [
    "Not surprisingly, we find that better passenger class is correlated with higher fare.\n",
    "\n",
    "In sum, we see that passengers of higher socio-economic status had a better chance of survival."
   ]
  },
  {
   "cell_type": "markdown",
   "metadata": {},
   "source": [
    "## 6. Port of Embarkation and Survival"
   ]
  },
  {
   "cell_type": "markdown",
   "metadata": {},
   "source": [
    "We also examine whether each passenger's port of embarkation can be a predictor for his/her survival status."
   ]
  },
  {
   "cell_type": "code",
   "execution_count": 24,
   "metadata": {
    "collapsed": false
   },
   "outputs": [
    {
     "name": "stdout",
     "output_type": "stream",
     "text": [
      "< Survival by Port of Embarkation >\n",
      "Embarked    C   Q    S  All\n",
      "Survived                   \n",
      "0          75  47  427  549\n",
      "1          93  30  217  342\n",
      "All       168  77  644  891\n"
     ]
    }
   ],
   "source": [
    "# Basic breakdown\n",
    "print '< Survival by Port of Embarkation >'\n",
    "print survival_breakdown('Embarked')"
   ]
  },
  {
   "cell_type": "code",
   "execution_count": 25,
   "metadata": {
    "collapsed": false
   },
   "outputs": [
    {
     "name": "stdout",
     "output_type": "stream",
     "text": [
      "< Survival Rate by Port of Embarkation >\n",
      "Embarked\n",
      "C    0.553571\n",
      "Q    0.389610\n",
      "S    0.336957\n",
      "Name: Survived, dtype: float64\n"
     ]
    },
    {
     "data": {
      "image/png": "[encoded data removed]",
      "text/plain": [
       "<matplotlib.figure.Figure at 0xa9e94a8>"
      ]
     },
     "metadata": {},
     "output_type": "display_data"
    },
    {
     "data": {
      "image/png": "[encoded data removed]",
      "text/plain": [
       "<matplotlib.figure.Figure at 0x9f33438>"
      ]
     },
     "metadata": {},
     "output_type": "display_data"
    }
   ],
   "source": [
    "# Port of embarkation and survival\n",
    "grouped_by_embarked_port = titanic_df.groupby('Embarked')\n",
    "print '< Survival Rate by Port of Embarkation >'\n",
    "print grouped_by_embarked_port['Survived'].mean()\n",
    "\n",
    "# Plotting\n",
    "survival_rate_by_embarked_port = list( grouped_by_embarked_port['Survived'].mean() )\n",
    "plot_bar('< Survival Rate by Port of Embarkation >', \n",
    "         'Port of Embarkation', \n",
    "         ['Cherbourg', 'Queenstown', 'Southampton'], \n",
    "         ['dodgerblue', 'limegreen', 'lightpink'], \n",
    "         'Survival Rate', survival_rate_by_embarked_port)\n",
    "\n",
    "plot_pie('< Port of Embarkation Ratio >', grouped_by_embarked_port.size(), \n",
    "         ['Cherbourg', 'Queenstown', 'Southampton'], \n",
    "         ['dodgerblue', 'limegreen', 'lightpink'])"
   ]
  },
  {
   "cell_type": "code",
   "execution_count": 26,
   "metadata": {
    "collapsed": false
   },
   "outputs": [
    {
     "data": {
      "text/plain": [
       "(26.489149839237619,\n",
       " 1.769922284120912e-06,\n",
       " 2L,\n",
       " array([[ 103.7480315,   47.5511811,  397.7007874],\n",
       "        [  64.2519685,   29.4488189,  246.2992126]]))"
      ]
     },
     "execution_count": 26,
     "metadata": {},
     "output_type": "execute_result"
    }
   ],
   "source": [
    "# Conducting the chi-square test \n",
    "tab_embarked_port = survival_breakdown('Embarked')\n",
    "tab_embarked_port_observed = tab_embarked_port.ix[0:-1, 0:-1]   # Get table without totals\n",
    "stats.chi2_contingency(observed=tab_embarked_port_observed)"
   ]
  },
  {
   "cell_type": "markdown",
   "metadata": {},
   "source": [
    "Interestingly, passengers who embarked from Cherbourg (\"C\") show a higher survival rate. Furthermore, the chi-square test supports that this is highly likely not by random chance. Why? What might be so special about Cherbourg? Could this be related to the socio-economic factor?"
   ]
  },
  {
   "cell_type": "code",
   "execution_count": 27,
   "metadata": {
    "collapsed": false
   },
   "outputs": [
    {
     "name": "stdout",
     "output_type": "stream",
     "text": [
      "< Average Fare by Port of Embarkation >\n",
      "Embarked\n",
      "C    59.954144\n",
      "Q    13.276030\n",
      "S    27.079812\n",
      "Name: Fare, dtype: float64\n"
     ]
    },
    {
     "data": {
      "image/png": "[encoded data removed]",
      "text/plain": [
       "<matplotlib.figure.Figure at 0x992c320>"
      ]
     },
     "metadata": {},
     "output_type": "display_data"
    }
   ],
   "source": [
    "# Fare by port of embarkation\n",
    "print '< Average Fare by Port of Embarkation >'\n",
    "print grouped_by_embarked_port['Fare'].mean()\n",
    "\n",
    "# Plotting\n",
    "average_fare_by_embarked_port = list( grouped_by_embarked_port['Fare'].mean() )\n",
    "plot_bar('< Average Fare by Port of Embarkation >', \n",
    "         'Port of Embarkation', \n",
    "         ['Cherbourg', 'Queenstown', 'Southampton'], \n",
    "         ['dodgerblue', 'limegreen', 'lightpink'], \n",
    "         'Average Fare', average_fare_by_embarked_port)"
   ]
  },
  {
   "cell_type": "markdown",
   "metadata": {},
   "source": [
    "We see that passenger who embarked from Cherbourg (\"C\") indeed have higher socio-economic status.\n",
    "\n",
    "Hence, we can make the following conjectures. First, the reason why passengers from Cherbourg had a better chance of survival primarily has to do with their higher socio-economic status. Second, Cherbourg (in northern France) of the time was probably wealthier than Queenstown (now Cobh; in southern Ireland) or Southampton (in southern England)."
   ]
  },
  {
   "cell_type": "markdown",
   "metadata": {},
   "source": [
    "But what about Queenstown and Southampton? The result indicates that passengers from Southampton are probably more well-off than passengers from Queenstown. Then why is it that their survival is no better than that for the latter?\n",
    "\n",
    "Since socio-economic status is not the only predictor for survival, we may suspect that another factor is in play. Gender may be the culprit."
   ]
  },
  {
   "cell_type": "code",
   "execution_count": 28,
   "metadata": {
    "collapsed": false
   },
   "outputs": [
    {
     "name": "stdout",
     "output_type": "stream",
     "text": [
      "< Gender Ratio by Port of Embarkation >\n",
      "Sex         female      male  All\n",
      "Embarked                         \n",
      "C         0.434524  0.565476    1\n",
      "Q         0.467532  0.532468    1\n",
      "S         0.315217  0.684783    1\n",
      "All       0.352413  0.647587    1\n"
     ]
    },
    {
     "data": {
      "image/png": "[encoded data removed]",
      "text/plain": [
       "<matplotlib.figure.Figure at 0xaafbd68>"
      ]
     },
     "metadata": {},
     "output_type": "display_data"
    }
   ],
   "source": [
    "# Calculating gender ratio for each port\n",
    "tab_gender_by_port = pd.pivot_table(titanic_df, index='Embarked', columns='Sex', \n",
    "                                    values='PassengerId', aggfunc=len, margins=True, fill_value=0)\n",
    "tab_gender_by_port_pct = tab_gender_by_port.div(tab_gender_by_port.iloc[:,-1], axis=0)\n",
    "print '< Gender Ratio by Port of Embarkation >'\n",
    "print tab_gender_by_port_pct\n",
    "\n",
    "# Plotting gender ratio for each port\n",
    "gender_Cherbourg = tab_gender_by_port.ix[0:-1, 0:-1].loc['C']\n",
    "gender_Queenstown = tab_gender_by_port.ix[0:-1, 0:-1].loc['Q']\n",
    "gender_Southampton = tab_gender_by_port.ix[0:-1, 0:-1].loc['S']\n",
    "\n",
    "grid = GridSpec(3, 3)\n",
    "plt.subplot(grid[0, 0], aspect=1)\n",
    "plot_pie('< Cherbourg >', gender_Cherbourg, \n",
    "         ['Female', 'Male'], ['gold', 'yellowgreen'], show=False)\n",
    "plt.subplot(grid[0, 2], aspect=1)\n",
    "plot_pie('< Queenstown >', gender_Queenstown, \n",
    "         ['Female', 'Male'], ['gold', 'yellowgreen'], show=False)\n",
    "plt.subplot(grid[2, 1], aspect=1)\n",
    "plot_pie('< Southampton >', gender_Southampton, \n",
    "         ['Female', 'Male'], ['gold', 'yellowgreen'], show=False)"
   ]
  },
  {
   "cell_type": "markdown",
   "metadata": {},
   "source": [
    "In fact, the passenger group from Southampton has a greater male ratio than other groups! As we saw earlier, being a female is associated with a higher chance of survival. Differently put, being a male is associated with a lower chance of survival. Hence, the following can be claimed for the passengers from Southampton: the positive effect of their (relatively) higher socio-economic status on survival is offset by their (relatively) greater male ratio (68.5%). This contrast with the passengers from Queenstown, whose overall socio-economic status is relatively lower yet whose male ratio is also relatively smaller (53.2%).\n",
    "\n",
    "This combined effect of gender and socio-economic status also fits well with what we observe for the passenger group from Cherbourg. As we saw earlier, the group displays a distinctively high socio-economic status. Furthermore, our result shows that the same group also has a relatively intermediate male ratio (56.5%). It then logically follows that the group should display a high survival rate, which is exactly what we observe from our dataset."
   ]
  },
  {
   "cell_type": "markdown",
   "metadata": {},
   "source": [
    "## 7. Family and Survival"
   ]
  },
  {
   "cell_type": "markdown",
   "metadata": {},
   "source": [
    "Finally, we explore the relationship between each passenger's family status aboard and his/her survival. For this, we create a new variable *FamNum* by combining *SibSp* (number of siblings/spouses aboard) and *Parch* (number of parents/children aboard)."
   ]
  },
  {
   "cell_type": "code",
   "execution_count": 29,
   "metadata": {
    "collapsed": false
   },
   "outputs": [],
   "source": [
    "# Creating a new variable for the number of family members aboard\n",
    "titanic_df['FamNum'] = pd.Series(titanic_df['SibSp'] + titanic_df['Parch'])"
   ]
  },
  {
   "cell_type": "code",
   "execution_count": 30,
   "metadata": {
    "collapsed": false
   },
   "outputs": [
    {
     "data": {
      "text/html": [
       "<div>\n",
       "<table border=\"1\" class=\"dataframe\">\n",
       "  <thead>\n",
       "    <tr style=\"text-align: right;\">\n",
       "      <th></th>\n",
       "      <th>PassengerId</th>\n",
       "      <th>Survived</th>\n",
       "      <th>Pclass</th>\n",
       "      <th>Name</th>\n",
       "      <th>Sex</th>\n",
       "      <th>Age</th>\n",
       "      <th>SibSp</th>\n",
       "      <th>Parch</th>\n",
       "      <th>Ticket</th>\n",
       "      <th>Fare</th>\n",
       "      <th>Cabin</th>\n",
       "      <th>Embarked</th>\n",
       "      <th>AgeCat</th>\n",
       "      <th>FamNum</th>\n",
       "    </tr>\n",
       "  </thead>\n",
       "  <tbody>\n",
       "    <tr>\n",
       "      <th>450</th>\n",
       "      <td>451</td>\n",
       "      <td>0</td>\n",
       "      <td>2</td>\n",
       "      <td>West, Mr. Edwy Arthur</td>\n",
       "      <td>male</td>\n",
       "      <td>36</td>\n",
       "      <td>1</td>\n",
       "      <td>2</td>\n",
       "      <td>C.A. 34651</td>\n",
       "      <td>27.7500</td>\n",
       "      <td>NaN</td>\n",
       "      <td>S</td>\n",
       "      <td>30 to 44</td>\n",
       "      <td>3</td>\n",
       "    </tr>\n",
       "    <tr>\n",
       "      <th>451</th>\n",
       "      <td>452</td>\n",
       "      <td>0</td>\n",
       "      <td>3</td>\n",
       "      <td>Hagland, Mr. Ingvald Olai Olsen</td>\n",
       "      <td>male</td>\n",
       "      <td>NaN</td>\n",
       "      <td>1</td>\n",
       "      <td>0</td>\n",
       "      <td>65303</td>\n",
       "      <td>19.9667</td>\n",
       "      <td>NaN</td>\n",
       "      <td>S</td>\n",
       "      <td>None</td>\n",
       "      <td>1</td>\n",
       "    </tr>\n",
       "    <tr>\n",
       "      <th>452</th>\n",
       "      <td>453</td>\n",
       "      <td>0</td>\n",
       "      <td>1</td>\n",
       "      <td>Foreman, Mr. Benjamin Laventall</td>\n",
       "      <td>male</td>\n",
       "      <td>30</td>\n",
       "      <td>0</td>\n",
       "      <td>0</td>\n",
       "      <td>113051</td>\n",
       "      <td>27.7500</td>\n",
       "      <td>C111</td>\n",
       "      <td>C</td>\n",
       "      <td>30 to 44</td>\n",
       "      <td>0</td>\n",
       "    </tr>\n",
       "    <tr>\n",
       "      <th>453</th>\n",
       "      <td>454</td>\n",
       "      <td>1</td>\n",
       "      <td>1</td>\n",
       "      <td>Goldenberg, Mr. Samuel L</td>\n",
       "      <td>male</td>\n",
       "      <td>49</td>\n",
       "      <td>1</td>\n",
       "      <td>0</td>\n",
       "      <td>17453</td>\n",
       "      <td>89.1042</td>\n",
       "      <td>C92</td>\n",
       "      <td>C</td>\n",
       "      <td>45 to 59</td>\n",
       "      <td>1</td>\n",
       "    </tr>\n",
       "    <tr>\n",
       "      <th>454</th>\n",
       "      <td>455</td>\n",
       "      <td>0</td>\n",
       "      <td>3</td>\n",
       "      <td>Peduzzi, Mr. Joseph</td>\n",
       "      <td>male</td>\n",
       "      <td>NaN</td>\n",
       "      <td>0</td>\n",
       "      <td>0</td>\n",
       "      <td>A/5 2817</td>\n",
       "      <td>8.0500</td>\n",
       "      <td>NaN</td>\n",
       "      <td>S</td>\n",
       "      <td>None</td>\n",
       "      <td>0</td>\n",
       "    </tr>\n",
       "    <tr>\n",
       "      <th>455</th>\n",
       "      <td>456</td>\n",
       "      <td>1</td>\n",
       "      <td>3</td>\n",
       "      <td>Jalsevac, Mr. Ivan</td>\n",
       "      <td>male</td>\n",
       "      <td>29</td>\n",
       "      <td>0</td>\n",
       "      <td>0</td>\n",
       "      <td>349240</td>\n",
       "      <td>7.8958</td>\n",
       "      <td>NaN</td>\n",
       "      <td>C</td>\n",
       "      <td>16 to 29</td>\n",
       "      <td>0</td>\n",
       "    </tr>\n",
       "    <tr>\n",
       "      <th>456</th>\n",
       "      <td>457</td>\n",
       "      <td>0</td>\n",
       "      <td>1</td>\n",
       "      <td>Millet, Mr. Francis Davis</td>\n",
       "      <td>male</td>\n",
       "      <td>65</td>\n",
       "      <td>0</td>\n",
       "      <td>0</td>\n",
       "      <td>13509</td>\n",
       "      <td>26.5500</td>\n",
       "      <td>E38</td>\n",
       "      <td>S</td>\n",
       "      <td>60 or above</td>\n",
       "      <td>0</td>\n",
       "    </tr>\n",
       "    <tr>\n",
       "      <th>457</th>\n",
       "      <td>458</td>\n",
       "      <td>1</td>\n",
       "      <td>1</td>\n",
       "      <td>Kenyon, Mrs. Frederick R (Marion)</td>\n",
       "      <td>female</td>\n",
       "      <td>NaN</td>\n",
       "      <td>1</td>\n",
       "      <td>0</td>\n",
       "      <td>17464</td>\n",
       "      <td>51.8625</td>\n",
       "      <td>D21</td>\n",
       "      <td>S</td>\n",
       "      <td>None</td>\n",
       "      <td>1</td>\n",
       "    </tr>\n",
       "    <tr>\n",
       "      <th>458</th>\n",
       "      <td>459</td>\n",
       "      <td>1</td>\n",
       "      <td>2</td>\n",
       "      <td>Toomey, Miss. Ellen</td>\n",
       "      <td>female</td>\n",
       "      <td>50</td>\n",
       "      <td>0</td>\n",
       "      <td>0</td>\n",
       "      <td>F.C.C. 13531</td>\n",
       "      <td>10.5000</td>\n",
       "      <td>NaN</td>\n",
       "      <td>S</td>\n",
       "      <td>45 to 59</td>\n",
       "      <td>0</td>\n",
       "    </tr>\n",
       "  </tbody>\n",
       "</table>\n",
       "</div>"
      ],
      "text/plain": [
       "     PassengerId  Survived  Pclass                               Name     Sex  \\\n",
       "450          451         0       2              West, Mr. Edwy Arthur    male   \n",
       "451          452         0       3    Hagland, Mr. Ingvald Olai Olsen    male   \n",
       "452          453         0       1    Foreman, Mr. Benjamin Laventall    male   \n",
       "453          454         1       1           Goldenberg, Mr. Samuel L    male   \n",
       "454          455         0       3                Peduzzi, Mr. Joseph    male   \n",
       "455          456         1       3                 Jalsevac, Mr. Ivan    male   \n",
       "456          457         0       1          Millet, Mr. Francis Davis    male   \n",
       "457          458         1       1  Kenyon, Mrs. Frederick R (Marion)  female   \n",
       "458          459         1       2                Toomey, Miss. Ellen  female   \n",
       "\n",
       "     Age  SibSp  Parch        Ticket     Fare Cabin Embarked       AgeCat  \\\n",
       "450   36      1      2    C.A. 34651  27.7500   NaN        S     30 to 44   \n",
       "451  NaN      1      0         65303  19.9667   NaN        S         None   \n",
       "452   30      0      0        113051  27.7500  C111        C     30 to 44   \n",
       "453   49      1      0         17453  89.1042   C92        C     45 to 59   \n",
       "454  NaN      0      0      A/5 2817   8.0500   NaN        S         None   \n",
       "455   29      0      0        349240   7.8958   NaN        C     16 to 29   \n",
       "456   65      0      0         13509  26.5500   E38        S  60 or above   \n",
       "457  NaN      1      0         17464  51.8625   D21        S         None   \n",
       "458   50      0      0  F.C.C. 13531  10.5000   NaN        S     45 to 59   \n",
       "\n",
       "     FamNum  \n",
       "450       3  \n",
       "451       1  \n",
       "452       0  \n",
       "453       1  \n",
       "454       0  \n",
       "455       0  \n",
       "456       0  \n",
       "457       1  \n",
       "458       0  "
      ]
     },
     "execution_count": 30,
     "metadata": {},
     "output_type": "execute_result"
    }
   ],
   "source": [
    "# Checking the result\n",
    "titanic_df.iloc[450:459]"
   ]
  },
  {
   "cell_type": "markdown",
   "metadata": {},
   "source": [
    "Let's examine the distribution."
   ]
  },
  {
   "cell_type": "code",
   "execution_count": 31,
   "metadata": {
    "collapsed": false
   },
   "outputs": [
    {
     "data": {
      "image/png": "[encoded data removed]",
      "text/plain": [
       "<matplotlib.figure.Figure at 0xa92bf28>"
      ]
     },
     "metadata": {},
     "output_type": "display_data"
    }
   ],
   "source": [
    "# Plotting histogram for the number of family members aboard\n",
    "plt.hist( titanic_df['FamNum'] )\n",
    "plt.title('< Family Members Aboard: Histogram >', size=16)\n",
    "plt.xlabel('Number of Family Members Aboard')\n",
    "plt.ylabel('Frequency')\n",
    "plt.show()"
   ]
  },
  {
   "cell_type": "markdown",
   "metadata": {},
   "source": [
    "We see that most passengers had less than 2 family members aboard.\n",
    "\n",
    "Let's now categorize the variable to more effectively examine its relationship to survival."
   ]
  },
  {
   "cell_type": "code",
   "execution_count": 32,
   "metadata": {
    "collapsed": false
   },
   "outputs": [
    {
     "data": {
      "text/html": [
       "<div>\n",
       "<table border=\"1\" class=\"dataframe\">\n",
       "  <thead>\n",
       "    <tr style=\"text-align: right;\">\n",
       "      <th></th>\n",
       "      <th>PassengerId</th>\n",
       "      <th>Survived</th>\n",
       "      <th>Pclass</th>\n",
       "      <th>Name</th>\n",
       "      <th>Sex</th>\n",
       "      <th>Age</th>\n",
       "      <th>SibSp</th>\n",
       "      <th>Parch</th>\n",
       "      <th>Ticket</th>\n",
       "      <th>Fare</th>\n",
       "      <th>Cabin</th>\n",
       "      <th>Embarked</th>\n",
       "      <th>AgeCat</th>\n",
       "      <th>FamNum</th>\n",
       "      <th>FamNumCat</th>\n",
       "    </tr>\n",
       "  </thead>\n",
       "  <tbody>\n",
       "    <tr>\n",
       "      <th>450</th>\n",
       "      <td>451</td>\n",
       "      <td>0</td>\n",
       "      <td>2</td>\n",
       "      <td>West, Mr. Edwy Arthur</td>\n",
       "      <td>male</td>\n",
       "      <td>36</td>\n",
       "      <td>1</td>\n",
       "      <td>2</td>\n",
       "      <td>C.A. 34651</td>\n",
       "      <td>27.7500</td>\n",
       "      <td>NaN</td>\n",
       "      <td>S</td>\n",
       "      <td>30 to 44</td>\n",
       "      <td>3</td>\n",
       "      <td>2 to 3</td>\n",
       "    </tr>\n",
       "    <tr>\n",
       "      <th>451</th>\n",
       "      <td>452</td>\n",
       "      <td>0</td>\n",
       "      <td>3</td>\n",
       "      <td>Hagland, Mr. Ingvald Olai Olsen</td>\n",
       "      <td>male</td>\n",
       "      <td>NaN</td>\n",
       "      <td>1</td>\n",
       "      <td>0</td>\n",
       "      <td>65303</td>\n",
       "      <td>19.9667</td>\n",
       "      <td>NaN</td>\n",
       "      <td>S</td>\n",
       "      <td>None</td>\n",
       "      <td>1</td>\n",
       "      <td>1</td>\n",
       "    </tr>\n",
       "    <tr>\n",
       "      <th>452</th>\n",
       "      <td>453</td>\n",
       "      <td>0</td>\n",
       "      <td>1</td>\n",
       "      <td>Foreman, Mr. Benjamin Laventall</td>\n",
       "      <td>male</td>\n",
       "      <td>30</td>\n",
       "      <td>0</td>\n",
       "      <td>0</td>\n",
       "      <td>113051</td>\n",
       "      <td>27.7500</td>\n",
       "      <td>C111</td>\n",
       "      <td>C</td>\n",
       "      <td>30 to 44</td>\n",
       "      <td>0</td>\n",
       "      <td>0</td>\n",
       "    </tr>\n",
       "    <tr>\n",
       "      <th>453</th>\n",
       "      <td>454</td>\n",
       "      <td>1</td>\n",
       "      <td>1</td>\n",
       "      <td>Goldenberg, Mr. Samuel L</td>\n",
       "      <td>male</td>\n",
       "      <td>49</td>\n",
       "      <td>1</td>\n",
       "      <td>0</td>\n",
       "      <td>17453</td>\n",
       "      <td>89.1042</td>\n",
       "      <td>C92</td>\n",
       "      <td>C</td>\n",
       "      <td>45 to 59</td>\n",
       "      <td>1</td>\n",
       "      <td>1</td>\n",
       "    </tr>\n",
       "    <tr>\n",
       "      <th>454</th>\n",
       "      <td>455</td>\n",
       "      <td>0</td>\n",
       "      <td>3</td>\n",
       "      <td>Peduzzi, Mr. Joseph</td>\n",
       "      <td>male</td>\n",
       "      <td>NaN</td>\n",
       "      <td>0</td>\n",
       "      <td>0</td>\n",
       "      <td>A/5 2817</td>\n",
       "      <td>8.0500</td>\n",
       "      <td>NaN</td>\n",
       "      <td>S</td>\n",
       "      <td>None</td>\n",
       "      <td>0</td>\n",
       "      <td>0</td>\n",
       "    </tr>\n",
       "    <tr>\n",
       "      <th>455</th>\n",
       "      <td>456</td>\n",
       "      <td>1</td>\n",
       "      <td>3</td>\n",
       "      <td>Jalsevac, Mr. Ivan</td>\n",
       "      <td>male</td>\n",
       "      <td>29</td>\n",
       "      <td>0</td>\n",
       "      <td>0</td>\n",
       "      <td>349240</td>\n",
       "      <td>7.8958</td>\n",
       "      <td>NaN</td>\n",
       "      <td>C</td>\n",
       "      <td>16 to 29</td>\n",
       "      <td>0</td>\n",
       "      <td>0</td>\n",
       "    </tr>\n",
       "    <tr>\n",
       "      <th>456</th>\n",
       "      <td>457</td>\n",
       "      <td>0</td>\n",
       "      <td>1</td>\n",
       "      <td>Millet, Mr. Francis Davis</td>\n",
       "      <td>male</td>\n",
       "      <td>65</td>\n",
       "      <td>0</td>\n",
       "      <td>0</td>\n",
       "      <td>13509</td>\n",
       "      <td>26.5500</td>\n",
       "      <td>E38</td>\n",
       "      <td>S</td>\n",
       "      <td>60 or above</td>\n",
       "      <td>0</td>\n",
       "      <td>0</td>\n",
       "    </tr>\n",
       "    <tr>\n",
       "      <th>457</th>\n",
       "      <td>458</td>\n",
       "      <td>1</td>\n",
       "      <td>1</td>\n",
       "      <td>Kenyon, Mrs. Frederick R (Marion)</td>\n",
       "      <td>female</td>\n",
       "      <td>NaN</td>\n",
       "      <td>1</td>\n",
       "      <td>0</td>\n",
       "      <td>17464</td>\n",
       "      <td>51.8625</td>\n",
       "      <td>D21</td>\n",
       "      <td>S</td>\n",
       "      <td>None</td>\n",
       "      <td>1</td>\n",
       "      <td>1</td>\n",
       "    </tr>\n",
       "    <tr>\n",
       "      <th>458</th>\n",
       "      <td>459</td>\n",
       "      <td>1</td>\n",
       "      <td>2</td>\n",
       "      <td>Toomey, Miss. Ellen</td>\n",
       "      <td>female</td>\n",
       "      <td>50</td>\n",
       "      <td>0</td>\n",
       "      <td>0</td>\n",
       "      <td>F.C.C. 13531</td>\n",
       "      <td>10.5000</td>\n",
       "      <td>NaN</td>\n",
       "      <td>S</td>\n",
       "      <td>45 to 59</td>\n",
       "      <td>0</td>\n",
       "      <td>0</td>\n",
       "    </tr>\n",
       "  </tbody>\n",
       "</table>\n",
       "</div>"
      ],
      "text/plain": [
       "     PassengerId  Survived  Pclass                               Name     Sex  \\\n",
       "450          451         0       2              West, Mr. Edwy Arthur    male   \n",
       "451          452         0       3    Hagland, Mr. Ingvald Olai Olsen    male   \n",
       "452          453         0       1    Foreman, Mr. Benjamin Laventall    male   \n",
       "453          454         1       1           Goldenberg, Mr. Samuel L    male   \n",
       "454          455         0       3                Peduzzi, Mr. Joseph    male   \n",
       "455          456         1       3                 Jalsevac, Mr. Ivan    male   \n",
       "456          457         0       1          Millet, Mr. Francis Davis    male   \n",
       "457          458         1       1  Kenyon, Mrs. Frederick R (Marion)  female   \n",
       "458          459         1       2                Toomey, Miss. Ellen  female   \n",
       "\n",
       "     Age  SibSp  Parch        Ticket     Fare Cabin Embarked       AgeCat  \\\n",
       "450   36      1      2    C.A. 34651  27.7500   NaN        S     30 to 44   \n",
       "451  NaN      1      0         65303  19.9667   NaN        S         None   \n",
       "452   30      0      0        113051  27.7500  C111        C     30 to 44   \n",
       "453   49      1      0         17453  89.1042   C92        C     45 to 59   \n",
       "454  NaN      0      0      A/5 2817   8.0500   NaN        S         None   \n",
       "455   29      0      0        349240   7.8958   NaN        C     16 to 29   \n",
       "456   65      0      0         13509  26.5500   E38        S  60 or above   \n",
       "457  NaN      1      0         17464  51.8625   D21        S         None   \n",
       "458   50      0      0  F.C.C. 13531  10.5000   NaN        S     45 to 59   \n",
       "\n",
       "     FamNum FamNumCat  \n",
       "450       3    2 to 3  \n",
       "451       1         1  \n",
       "452       0         0  \n",
       "453       1         1  \n",
       "454       0         0  \n",
       "455       0         0  \n",
       "456       0         0  \n",
       "457       1         1  \n",
       "458       0         0  "
      ]
     },
     "execution_count": 32,
     "metadata": {},
     "output_type": "execute_result"
    }
   ],
   "source": [
    "# Creating a new categorical variable for the number of family members aboard\n",
    "def fam_categorize(fam_num):\n",
    "    if (fam_num >= 6):\n",
    "        return '6 or more'\n",
    "    if (fam_num >= 4 and fam_num <= 5):\n",
    "        return '4 to 5'\n",
    "    if (fam_num >= 2 and fam_num <= 3):\n",
    "        return '2 to 3'\n",
    "    if (fam_num == 1):\n",
    "        return '1'\n",
    "    if (fam_num == 0):\n",
    "        return '0'\n",
    "\n",
    "titanic_df['FamNumCat'] = pd.Series( titanic_df['FamNum'].apply(fam_categorize) )\n",
    "\n",
    "# Checking the result\n",
    "titanic_df.iloc[450:459]"
   ]
  },
  {
   "cell_type": "markdown",
   "metadata": {},
   "source": [
    "And we examine the survival rate for each group."
   ]
  },
  {
   "cell_type": "code",
   "execution_count": 33,
   "metadata": {
    "collapsed": false
   },
   "outputs": [
    {
     "name": "stdout",
     "output_type": "stream",
     "text": [
      "< Survival Rate by the Number of Family Members Aboard >\n",
      "FamNumCat\n",
      "0            0.303538\n",
      "1            0.552795\n",
      "2 to 3       0.610687\n",
      "4 to 5       0.162162\n",
      "6 or more    0.160000\n",
      "Name: Survived, dtype: float64\n"
     ]
    },
    {
     "data": {
      "image/png": "[encoded data removed]",
      "text/plain": [
       "<matplotlib.figure.Figure at 0xb5c8e80>"
      ]
     },
     "metadata": {},
     "output_type": "display_data"
    },
    {
     "data": {
      "image/png": "[encoded data removed]",
      "text/plain": [
       "<matplotlib.figure.Figure at 0xb602390>"
      ]
     },
     "metadata": {},
     "output_type": "display_data"
    }
   ],
   "source": [
    "# Number of family members aboard and survival\n",
    "grouped_by_family_size = titanic_df.groupby('FamNumCat')\n",
    "print '< Survival Rate by the Number of Family Members Aboard >'\n",
    "print grouped_by_family_size['Survived'].mean()\n",
    "\n",
    "# Plotting\n",
    "survival_rate_by_family_size = list( grouped_by_family_size['Survived'].mean() )\n",
    "plot_bar('< Survival Rate by the Number of Family Members Aboard >', \n",
    "         'Number of Family Members Aboard', \n",
    "         ['None', '1', '2 to 3', '4 to 5', '6 or more'], \n",
    "         ['ivory', 'cornsilk', 'lightgray', 'silver', 'darkgray'], \n",
    "         'Survival Rate', survival_rate_by_family_size)\n",
    "\n",
    "plot_pie('< Family Aboard Ratio >', grouped_by_family_size.size(), \n",
    "         ['None', '1', '2 to 3', '4 to 5', '6 or more'], \n",
    "         ['ivory', 'cornsilk', 'lightgray', 'silver', 'darkgray'])"
   ]
  },
  {
   "cell_type": "markdown",
   "metadata": {},
   "source": [
    "We observe that the survival rate displays three distinctive \"baskets\", namely \"No family members aboard\", \"1 to 3 aboard\", and \"4 or more aboard\". Accordingly, we re-categorize the number of family members aboard as follows."
   ]
  },
  {
   "cell_type": "code",
   "execution_count": 34,
   "metadata": {
    "collapsed": false
   },
   "outputs": [
    {
     "name": "stdout",
     "output_type": "stream",
     "text": [
      "< Survival Rate by the Number of Family Members Aboard >\n",
      "FamNumCat\n",
      "0            0.303538\n",
      "1 to 3       0.578767\n",
      "4 or more    0.161290\n",
      "Name: Survived, dtype: float64\n"
     ]
    },
    {
     "data": {
      "image/png": "[encoded data removed]",
      "text/plain": [
       "<matplotlib.figure.Figure at 0xb5a1860>"
      ]
     },
     "metadata": {},
     "output_type": "display_data"
    },
    {
     "data": {
      "image/png": "[encoded data removed]",
      "text/plain": [
       "<matplotlib.figure.Figure at 0xb558a90>"
      ]
     },
     "metadata": {},
     "output_type": "display_data"
    }
   ],
   "source": [
    "# Modifying the categorical variable\n",
    "def fam_recategorize(fam_num):\n",
    "    if (fam_num >= 4):\n",
    "        return '4 or more'\n",
    "    if (fam_num >= 1 and fam_num <= 3):\n",
    "        return '1 to 3'\n",
    "    if (fam_num == 0):\n",
    "        return '0'\n",
    "\n",
    "titanic_df['FamNumCat'] = pd.Series( titanic_df['FamNum'].apply(fam_recategorize) )\n",
    "\n",
    "# Number of family members aboard and survival\n",
    "grouped_by_family_size = titanic_df.groupby('FamNumCat')\n",
    "print '< Survival Rate by the Number of Family Members Aboard >'\n",
    "print grouped_by_family_size['Survived'].mean()\n",
    "\n",
    "# Plotting\n",
    "survival_rate_by_family_size = list( grouped_by_family_size['Survived'].mean() )\n",
    "plot_bar('< Survival Rate by the Number of Family Members Aboard >', \n",
    "         'Number of Family Members Aboard', \n",
    "         ['None', '1 to 3', '4 or more'], \n",
    "         ['ivory', 'lightgray', 'darkgray'], \n",
    "         'Survival Rate', survival_rate_by_family_size)\n",
    "\n",
    "plot_pie('< Family Aboard Ratio >', grouped_by_family_size.size(), \n",
    "         ['None', '1 to 3', '4 or more'], ['ivory', 'lightgray', 'darkgray'])"
   ]
  },
  {
   "cell_type": "markdown",
   "metadata": {},
   "source": [
    "With the new categorization, the pattern becomes more pronounced, namely that the passenger's survival rate is much higher when he or she has a small number (1 to 3) of family members aboard than when he or she is aboard by him/herself. But the association between having family aboard and a higher chance of survival breaks down once the family size gets large (4 or more). In such a case, the survival rate is even lower than when the passenger is aboard by him/herself. One may attempt to interpret---rather generalize---this to mean that being with a *small* number of family members helps to survive a crisis but having too many of them is detrimental.\n",
    "\n",
    "It is worth noting that this observation agrees with a previous analysis of the dataset [2], which found that having 4 family members or more aboard is associated with a low chance of survival. The current analysis further contributes to this previous finding by specifying a caveat that the *number* of family members matters. The company of a *manageable* number of close ones can help to successfully navigate a crisis.\n",
    "\n",
    "As with previous analyses, we employ the chi-square test to examine whether this observation is statistically significant."
   ]
  },
  {
   "cell_type": "code",
   "execution_count": 35,
   "metadata": {
    "collapsed": false
   },
   "outputs": [
    {
     "name": "stdout",
     "output_type": "stream",
     "text": [
      "< Number of Passengers with Family Members Aboard >\n",
      "FamNumCat    0  1 to 3  4 or more  All\n",
      "Survived                              \n",
      "0          374     123         52  549\n",
      "1          163     169         10  342\n",
      "All        537     292         62  891\n"
     ]
    }
   ],
   "source": [
    "# Basic breakdown\n",
    "print '< Number of Passengers with Family Members Aboard >'\n",
    "print survival_breakdown('FamNumCat')"
   ]
  },
  {
   "cell_type": "code",
   "execution_count": 36,
   "metadata": {
    "collapsed": false
   },
   "outputs": [
    {
     "data": {
      "text/plain": [
       "(74.537249046982396,\n",
       " 6.5229195366404726e-17,\n",
       " 2L,\n",
       " array([[ 330.87878788,  179.91919192,   38.2020202 ],\n",
       "        [ 206.12121212,  112.08080808,   23.7979798 ]]))"
      ]
     },
     "execution_count": 36,
     "metadata": {},
     "output_type": "execute_result"
    }
   ],
   "source": [
    "# Conducting the chi-square test \n",
    "tab_family_size = survival_breakdown('FamNumCat')\n",
    "tab_family_size_observed = tab_family_size.ix[0:-1, 0:-1]   # Get table without totals\n",
    "stats.chi2_contingency(observed=tab_family_size_observed)"
   ]
  },
  {
   "cell_type": "markdown",
   "metadata": {},
   "source": [
    "We see that the p-value is significantly small (*p < .001*), so we can reject the null hypothesis that having family aboard and survival are independent. In other words, there is a relationship between having family aboard and survival."
   ]
  },
  {
   "cell_type": "markdown",
   "metadata": {},
   "source": [
    "## Conclusion\n",
    "\n",
    "In this investigation, I examined several factors that may be related to survival in the Titanic disaster using visualization and statistical tests. The result indicates that the two commonly known factors of age and gender are in fact related to survival. Specifically, being a female and being a child are related to a higher chance of survival. The result also indicates that higher socio-economic status and the company of a small *manageable* number (1 to 3) of family members are related to a higher chance of survival."
   ]
  },
  {
   "cell_type": "markdown",
   "metadata": {},
   "source": [
    "## References\n",
    "* [1] A webpage on the RMS Titanic and its sinking: https://en.wikipedia.org/wiki/RMS_Titanic\n",
    "\n",
    "* [2] A previous analysis of the Titanic dataset: https://www.kaggle.com/jasonm/titanic/large-families-not-good-for-survival\n",
    "\n",
    "* [3] Consulted for conducting the chi-square test in Python: http://hamelg.blogspot.com/2015/11/python-for-data-analysis-part-25-chi.html\n",
    "\n",
    "* [4] Consulted for conducting the t-test in Python: http://hamelg.blogspot.com/2015/11/python-for-data-analysis-part-24.html\n",
    "\n",
    "* [5] Consulted for using colors in Python plots: http://stackoverflow.com/questions/22408237/named-colors-in-matplotlib"
   ]
  }
 ],
 "metadata": {
  "kernelspec": {
   "display_name": "Python 2",
   "language": "python",
   "name": "python2"
  },
  "language_info": {
   "codemirror_mode": {
    "name": "ipython",
    "version": 2
   },
   "file_extension": ".py",
   "mimetype": "text/x-python",
   "name": "python",
   "nbconvert_exporter": "python",
   "pygments_lexer": "ipython2",
   "version": "2.7.11"
  }
 },
 "nbformat": 4,
 "nbformat_minor": 0
}
